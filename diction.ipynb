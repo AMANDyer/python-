{
 "cells": [
  {
   "cell_type": "code",
   "execution_count": 14,
   "id": "36d72eef-99ba-4e78-94ed-f1d61a317f22",
   "metadata": {},
   "outputs": [
    {
     "name": "stdout",
     "output_type": "stream",
     "text": [
      "{'a': 2, 'ab': 1, 'ac': 1, 'aa': 1, 'b': 1, 'bc': 1, 'ba': 1, 'c': 1, 'ca': 1, 'abca': 1}\n"
     ]
    }
   ],
   "source": [
    "#combination\n",
    "dictionary={}\n",
    "data=\"abca\"\n",
    "for i in range(0,len(data)):\n",
    "    if(data[i] not in dictionary):\n",
    "        dictionary[data[i]]=1\n",
    "    else:\n",
    "        dictionary[data[i]]+=1\n",
    "    for j in range(i+1,len(data)):\n",
    "        if(data[i]+data[j] not in dictionary):#concatnation\n",
    "            dictionary[data[i]+data[j]]=1\n",
    "        else:\n",
    "            dictionary[data[i]+data[j]]+=1\n",
    "            \n",
    "if data not in dictionary:\n",
    "    dictionary[data]=1\n",
    "print(dictionary)"
   ]
  },
  {
   "cell_type": "code",
   "execution_count": 17,
   "id": "a59ca4fc-d91a-46ca-ad4f-136774d73349",
   "metadata": {},
   "outputs": [
    {
     "name": "stdout",
     "output_type": "stream",
     "text": [
      "10 <class 'tuple'>\n"
     ]
    }
   ],
   "source": [
    "x=10,20,30\n",
    "print(x[0],type(x))"
   ]
  },
  {
   "cell_type": "code",
   "execution_count": 18,
   "id": "f027733a-e3d0-4d14-bd59-efd61096a848",
   "metadata": {},
   "outputs": [
    {
     "name": "stdout",
     "output_type": "stream",
     "text": [
      "VI\n"
     ]
    }
   ],
   "source": [
    "#Roman no\n",
    "dictionary={10:\"X\",5:\"V\",4:\"IV\",1:\"I\",9:\"IX\"}\n",
    "num=6\n",
    "data=\"\"\n",
    "for i in dictionary.items():\n",
    "    key=i[0]\n",
    "    value=i[1]\n",
    "\n",
    "    while(num>=key):\n",
    "        data=data+value\n",
    "        num-=key\n",
    "\n",
    "print(data)"
   ]
  },
  {
   "cell_type": "code",
   "execution_count": 23,
   "id": "d0498346-c062-419c-bc7a-8969924e05a2",
   "metadata": {},
   "outputs": [
    {
     "name": "stdout",
     "output_type": "stream",
     "text": [
      "VI\n"
     ]
    }
   ],
   "source": [
    "#Roman no\n",
    "dictionary={10:\"X\",5:\"V\",4:\"IV\",1:\"I\",9:\"IX\"}\n",
    "num=6\n",
    "data=\"\"\n",
    "for i in dictionary:\n",
    "    while(num>=i):\n",
    "        data=data+dictionary[i]\n",
    "        num-=i\n",
    "\n",
    "print(data)"
   ]
  },
  {
   "cell_type": "code",
   "execution_count": null,
   "id": "de37c1e1-ded2-4db2-80c1-77aef1b6eef4",
   "metadata": {},
   "outputs": [],
   "source": []
  },
  {
   "cell_type": "code",
   "execution_count": null,
   "id": "2a5f143c-1bae-43d1-b2ba-a732f8a86772",
   "metadata": {},
   "outputs": [],
   "source": []
  }
 ],
 "metadata": {
  "kernelspec": {
   "display_name": "Python 3 (ipykernel)",
   "language": "python",
   "name": "python3"
  },
  "language_info": {
   "codemirror_mode": {
    "name": "ipython",
    "version": 3
   },
   "file_extension": ".py",
   "mimetype": "text/x-python",
   "name": "python",
   "nbconvert_exporter": "python",
   "pygments_lexer": "ipython3",
   "version": "3.11.8"
  }
 },
 "nbformat": 4,
 "nbformat_minor": 5
}
