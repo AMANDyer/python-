{
 "cells": [
  {
   "cell_type": "code",
   "execution_count": 3,
   "id": "74bb7eac-6530-470b-9f46-c428d6b04045",
   "metadata": {},
   "outputs": [
    {
     "name": "stdout",
     "output_type": "stream",
     "text": [
      "Name is:Aman and Course is:BCA and Semester is Third\n"
     ]
    }
   ],
   "source": [
    "class Student:\n",
    "    def __init__(self,name,course,semester):\n",
    "        self.name=name\n",
    "        self.course=course\n",
    "        self.semester=semester\n",
    "\n",
    "    def getInfo(self):\n",
    "        print(f\"Name is:{self.name} and Course is:{self.course} and Semester is {self.semester}\")\n",
    "\n",
    "a=Student(\"Aman\",\"BCA\",\"Third\")\n",
    "a.getInfo()"
   ]
  },
  {
   "cell_type": "code",
   "execution_count": 6,
   "id": "2db3220e-f841-4949-888e-ec36650e2dc9",
   "metadata": {},
   "outputs": [
    {
     "name": "stdout",
     "output_type": "stream",
     "text": [
      "12\n",
      "8\n",
      "20\n",
      "5.0\n"
     ]
    }
   ],
   "source": [
    "class Calculator:\n",
    "    def __init__(self,num1,num2):\n",
    "        self.num1=num1\n",
    "        self.num2=num2\n",
    "\n",
    "    def add(self):\n",
    "        return self.num1+self.num2\n",
    "\n",
    "    def subs(self):\n",
    "        return self.num1-self.num2\n",
    "\n",
    "    def mult(self):\n",
    "        return self.num1*self.num2\n",
    "\n",
    "    def div(self):\n",
    "        if self.num2!=0:\n",
    "            return self.num1/self.num2\n",
    "        else:\n",
    "            return \"Division by zero error\"\n",
    "\n",
    "digit=Calculator(10,2)\n",
    "print(digit.add())\n",
    "print(digit.subs())\n",
    "print(digit.mult())\n",
    "print(digit.div())\n",
    "        "
   ]
  },
  {
   "cell_type": "code",
   "execution_count": 12,
   "id": "e40a4cc8-156c-4202-9538-e61fc02be463",
   "metadata": {},
   "outputs": [
    {
     "name": "stdout",
     "output_type": "stream",
     "text": [
      "Deposited!!!!Balance is 12000\n",
      "withraw successful!!! Available Balance is 11500\n",
      "Your Balance is 11500\n"
     ]
    }
   ],
   "source": [
    "class BankAccount():\n",
    "    def __init__(self,account_Holder,balance):\n",
    "        self.account_Holder=account_Holder\n",
    "        self.balance=balance\n",
    "\n",
    "    def deposit(self,amount):\n",
    "        self.balance+=amount\n",
    "        print(f\"Deposited!!!!Balance is {self.balance}\")\n",
    "\n",
    "    def withdraw(self,amount):\n",
    "        if self.balance>0:\n",
    "            self.balance-=amount\n",
    "            print(f\"withraw successful!!! Available Balance is {self.balance}\")\n",
    "        else:\n",
    "            print(\"Sorry!!! no Balance\")\n",
    "            \n",
    "    def check_Bal(self):\n",
    "        print(f\"Your Balance is {self.balance}\")\n",
    "\n",
    "account=BankAccount(\"Aman\",10000)\n",
    "account.deposit(2000)\n",
    "account.withdraw(500)\n",
    "account.check_Bal()\n",
    "        "
   ]
  },
  {
   "cell_type": "code",
   "execution_count": null,
   "id": "e378eff2-b43f-4acc-a68c-5042660614a6",
   "metadata": {},
   "outputs": [],
   "source": []
  }
 ],
 "metadata": {
  "kernelspec": {
   "display_name": "Python 3 (ipykernel)",
   "language": "python",
   "name": "python3"
  },
  "language_info": {
   "codemirror_mode": {
    "name": "ipython",
    "version": 3
   },
   "file_extension": ".py",
   "mimetype": "text/x-python",
   "name": "python",
   "nbconvert_exporter": "python",
   "pygments_lexer": "ipython3",
   "version": "3.11.8"
  }
 },
 "nbformat": 4,
 "nbformat_minor": 5
}
