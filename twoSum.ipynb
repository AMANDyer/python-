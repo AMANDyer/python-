{
 "cells": [
  {
   "cell_type": "code",
   "execution_count": 1,
   "id": "e8077512-d203-4b24-bf4a-472a47b3c937",
   "metadata": {},
   "outputs": [
    {
     "name": "stdout",
     "output_type": "stream",
     "text": [
      "2 7\n"
     ]
    }
   ],
   "source": [
    "#two sum\n",
    "t=9\n",
    "myList=[-2,-1,0,1,2,4,7,14,18]\n",
    "s=0\n",
    "e=len(myList)-1\n",
    "while(s<e):\n",
    "    if(myList[s]+myList[e]==t):\n",
    "        print(myList[s],myList[e])\n",
    "        break\n",
    "    elif(myList[s]+myList[e]>t):\n",
    "        e-=1\n",
    "    else:\n",
    "        s+=1\n",
    "        \n"
   ]
  },
  {
   "cell_type": "code",
   "execution_count": 13,
   "id": "53fd9765-9c76-484f-93eb-c208904ac89f",
   "metadata": {},
   "outputs": [
    {
     "name": "stdout",
     "output_type": "stream",
     "text": [
      "invalid\n"
     ]
    }
   ],
   "source": [
    "#valid paranthesis\n",
    "openB=[]\n",
    "x=0\n",
    "data=\"(()))\"\n",
    "for char in data:\n",
    "    if(char==\"(\"):\n",
    "        openB.append(char)\n",
    "    elif(openB):\n",
    "        if(char==\")\" and \"(\"==openB.pop()):\n",
    "            x=1\n",
    "    else:\n",
    "        x=0\n",
    "\n",
    "if(x==0 or len(openB)>0):\n",
    "    print(\"invalid\")\n",
    "else:\n",
    "    print(\"valid\")"
   ]
  },
  {
   "cell_type": "code",
   "execution_count": null,
   "id": "1d900dee-558b-442c-afe0-58db7d280a8e",
   "metadata": {},
   "outputs": [],
   "source": []
  }
 ],
 "metadata": {
  "kernelspec": {
   "display_name": "Python 3 (ipykernel)",
   "language": "python",
   "name": "python3"
  },
  "language_info": {
   "codemirror_mode": {
    "name": "ipython",
    "version": 3
   },
   "file_extension": ".py",
   "mimetype": "text/x-python",
   "name": "python",
   "nbconvert_exporter": "python",
   "pygments_lexer": "ipython3",
   "version": "3.11.8"
  }
 },
 "nbformat": 4,
 "nbformat_minor": 5
}
