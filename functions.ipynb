{
 "cells": [
  {
   "cell_type": "code",
   "execution_count": 4,
   "id": "b4ad1063-c0b3-4705-9201-f79095aef86b",
   "metadata": {},
   "outputs": [
    {
     "name": "stdout",
     "output_type": "stream",
     "text": [
      "hey Aman 98 78\n",
      "78\n"
     ]
    }
   ],
   "source": [
    "y=78#global scope\n",
    "def message():#fuction declaration user defined #non parameterised\n",
    "    c=98#local variable used only inside of its origin block\n",
    "    print(\"hey Aman\",c,y)#function indentation(in out)\n",
    "message()#call\n",
    "print(y)"
   ]
  },
  {
   "cell_type": "code",
   "execution_count": 8,
   "id": "140fba94-024b-4c59-bad7-8fe3e7f57ffb",
   "metadata": {},
   "outputs": [
    {
     "name": "stdout",
     "output_type": "stream",
     "text": [
      "hey Aman 50 70\n"
     ]
    }
   ],
   "source": [
    "def message(c,d):#parameterised func\n",
    "    print(\"hey Aman\",c,d)\n",
    "message(50,70)#call"
   ]
  },
  {
   "cell_type": "code",
   "execution_count": 13,
   "id": "594af67a-0f85-4892-adcd-d8ad37beedf4",
   "metadata": {},
   "outputs": [
    {
     "name": "stdout",
     "output_type": "stream",
     "text": [
      "hey Aman 50 10\n"
     ]
    }
   ],
   "source": [
    "#default argument\n",
    "def message(c,d=10):#parameterised func\n",
    "    print(\"hey Aman\",c,d)\n",
    "message(50)#call"
   ]
  },
  {
   "cell_type": "code",
   "execution_count": 14,
   "id": "a2f76f8a-ff34-42ba-bd5b-4ad32f79e246",
   "metadata": {},
   "outputs": [
    {
     "name": "stdout",
     "output_type": "stream",
     "text": [
      "hey Aman 90 50\n"
     ]
    }
   ],
   "source": [
    "#keyword argument\n",
    "def message(c,d):#parameterised func\n",
    "    print(\"hey Aman\",c,d)\n",
    "message(d=50,c=90)#call"
   ]
  },
  {
   "cell_type": "code",
   "execution_count": 15,
   "id": "d2d15b78-05cc-42b3-afaa-a2695b16c1b1",
   "metadata": {},
   "outputs": [
    {
     "name": "stdout",
     "output_type": "stream",
     "text": [
      "Case-1:\n",
      "Product: Laptop\n",
      "Price: $ 1200\n",
      "\n",
      "Case-2:\n",
      "Product: 1200\n",
      "Price: $ Laptop\n"
     ]
    }
   ],
   "source": [
    "#positional arguments\n",
    "def productInfo(product, price):\n",
    "    print(\"Product:\", product)\n",
    "    print(\"Price: $\", price)\n",
    "    \n",
    "# Correct order of arguments\n",
    "print(\"Case-1:\")\n",
    "productInfo(\"Laptop\", 1200)\n",
    "\n",
    "# Incorrect order of arguments\n",
    "print(\"\\nCase-2:\")\n",
    "productInfo(1200, \"Laptop\")\n"
   ]
  },
  {
   "cell_type": "code",
   "execution_count": 16,
   "id": "99764ec2-ec39-4d22-b344-60462e2a8e8a",
   "metadata": {},
   "outputs": [
    {
     "name": "stdout",
     "output_type": "stream",
     "text": [
      "Python\n",
      "is\n",
      "amazing\n"
     ]
    }
   ],
   "source": [
    "# Python program to illustrate\n",
    "# *args for variable number of arguments\n",
    "#arbitrary\n",
    "\n",
    "def myFun(*argv):#gives tuple format\n",
    "    for arg in argv:\n",
    "        print(arg)\n",
    "\n",
    "\n",
    "# Driver code with different arguments\n",
    "myFun('Python', 'is', 'amazing')\n"
   ]
  },
  {
   "cell_type": "code",
   "execution_count": 17,
   "id": "b5ada4fa-71cd-4275-a92d-9331604685e6",
   "metadata": {},
   "outputs": [
    {
     "name": "stdout",
     "output_type": "stream",
     "text": [
      "course: DSA\n",
      "platform: GeeksforGeeks\n",
      "difficulty: easy\n"
     ]
    }
   ],
   "source": [
    "# Python program to illustrate\n",
    "# **kwargs for variable number of keyword arguments\n",
    "#arbitrary\n",
    "def fun(**kwargs):#gives dictionary\n",
    "    for key, value in kwargs.items():\n",
    "        print(f\"{key}: {value}\")\n",
    "\n",
    "# Driver code\n",
    "fun(course=\"DSA\", platform=\"GeeksforGeeks\", difficulty=\"easy\")\n"
   ]
  },
  {
   "cell_type": "code",
   "execution_count": 19,
   "id": "76a64e8d-b588-4692-b54a-7568e7097910",
   "metadata": {},
   "outputs": [
    {
     "name": "stdout",
     "output_type": "stream",
     "text": [
      "25\n",
      "7\n"
     ]
    }
   ],
   "source": [
    "# Lambda function with one argument\n",
    "square = lambda x: x ** 2\n",
    "print(square(5))\n",
    "# Lambda function with two arguments\n",
    "add = lambda a, b: a + b\n",
    "print(add(3, 4))\n"
   ]
  },
  {
   "cell_type": "code",
   "execution_count": 24,
   "id": "2582f60a-9d13-4abe-aca1-56239a652d47",
   "metadata": {},
   "outputs": [
    {
     "name": "stdout",
     "output_type": "stream",
     "text": [
      "12345\n",
      "2345\n",
      "345\n",
      "45\n",
      "5\n"
     ]
    }
   ],
   "source": [
    "def pattern(n):\n",
    "    \n",
    "    for i in range(1,n+1):\n",
    "        for j in range(i,n+1):\n",
    "            print(j,end=\"\")\n",
    "        print()\n",
    "\n",
    "pattern(5)\n",
    "    "
   ]
  },
  {
   "cell_type": "code",
   "execution_count": 30,
   "id": "9d591675-81e9-425b-ac9b-8ef093f47b52",
   "metadata": {},
   "outputs": [
    {
     "name": "stdout",
     "output_type": "stream",
     "text": [
      "1\n",
      "2\n",
      "4\n",
      "8\n"
     ]
    }
   ],
   "source": [
    "def fact(n):\n",
    "    for i in range(1,n+1):\n",
    "        if(n%i==0):\n",
    "            print(i)\n",
    "\n",
    "fact(8)"
   ]
  },
  {
   "cell_type": "code",
   "execution_count": 34,
   "id": "6fb07859-3021-4e27-9d78-478136dbcba6",
   "metadata": {},
   "outputs": [
    {
     "name": "stdout",
     "output_type": "stream",
     "text": [
      "less than 10 8\n"
     ]
    }
   ],
   "source": [
    "def length(string):\n",
    "    count=0\n",
    "    for i in string:\n",
    "        count+=1\n",
    "\n",
    "    if(count<10):\n",
    "        print(\"less than 10\",count)\n",
    "    else:\n",
    "        print(\"more than 10\")\n",
    "length(\"12345678\")"
   ]
  },
  {
   "cell_type": "code",
   "execution_count": null,
   "id": "bceefb20-bbb9-4e87-887d-32258455ecb5",
   "metadata": {},
   "outputs": [],
   "source": []
  }
 ],
 "metadata": {
  "kernelspec": {
   "display_name": "Python 3 (ipykernel)",
   "language": "python",
   "name": "python3"
  },
  "language_info": {
   "codemirror_mode": {
    "name": "ipython",
    "version": 3
   },
   "file_extension": ".py",
   "mimetype": "text/x-python",
   "name": "python",
   "nbconvert_exporter": "python",
   "pygments_lexer": "ipython3",
   "version": "3.11.8"
  }
 },
 "nbformat": 4,
 "nbformat_minor": 5
}
