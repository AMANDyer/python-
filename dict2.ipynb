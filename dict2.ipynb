{
 "cells": [
  {
   "cell_type": "code",
   "execution_count": 7,
   "id": "109ea003-94be-4186-8a49-303166c467e4",
   "metadata": {},
   "outputs": [
    {
     "name": "stdout",
     "output_type": "stream",
     "text": [
      "{10: 2, 40: 1, 20: 1, 30: 1}\n"
     ]
    }
   ],
   "source": [
    "myList=[10,40,20,30,10]\n",
    "mydictionary={}\n",
    "for i in myList:\n",
    "    if i in mydictionary:\n",
    "        mydictionary[i]=mydictionary[i]+1\n",
    "    else:\n",
    "        mydictionary[i]=1\n",
    "\n",
    "print(mydictionary)"
   ]
  },
  {
   "cell_type": "code",
   "execution_count": 13,
   "id": "e82cc67f-a886-4509-9568-ebecef94629a",
   "metadata": {},
   "outputs": [
    {
     "name": "stdout",
     "output_type": "stream",
     "text": [
      "{10: 0, 40: 1, 20: 2, 30: 3}\n"
     ]
    }
   ],
   "source": [
    "myList=[10,40,20,30]\n",
    "mydictionary={}\n",
    "for i in range(0,len(myList)):\n",
    "    if myList[i] in mydictionary:\n",
    "        mydictionary[myList[i]]=mydictionary[i]+1\n",
    "    else:\n",
    "        mydictionary[myList[i]]=i\n",
    "\n",
    "print(mydictionary)"
   ]
  },
  {
   "cell_type": "code",
   "execution_count": 23,
   "id": "12b8633d-2fd1-4a8a-8381-c8ba83e4a6b3",
   "metadata": {},
   "outputs": [
    {
     "name": "stdout",
     "output_type": "stream",
     "text": [
      "67\n",
      "65\n",
      "66\n",
      "198\n"
     ]
    }
   ],
   "source": [
    "mydic={\"A\":65,\"B\":66,\"C\":67}\n",
    "strn=\"CAB\"\n",
    "sum=0\n",
    "for i in strn:\n",
    "    if i in mydic:\n",
    "        print(mydic[i])\n",
    "        sum+=mydic[i]\n",
    "\n",
    "print(sum)\n",
    "        \n",
    "    "
   ]
  },
  {
   "cell_type": "code",
   "execution_count": null,
   "id": "62e7563e-aca5-4aae-8108-ffb9291d35f0",
   "metadata": {},
   "outputs": [],
   "source": []
  }
 ],
 "metadata": {
  "kernelspec": {
   "display_name": "Python 3 (ipykernel)",
   "language": "python",
   "name": "python3"
  },
  "language_info": {
   "codemirror_mode": {
    "name": "ipython",
    "version": 3
   },
   "file_extension": ".py",
   "mimetype": "text/x-python",
   "name": "python",
   "nbconvert_exporter": "python",
   "pygments_lexer": "ipython3",
   "version": "3.11.8"
  }
 },
 "nbformat": 4,
 "nbformat_minor": 5
}
