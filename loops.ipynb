{
 "cells": [
  {
   "cell_type": "code",
   "execution_count": 3,
   "id": "6a8e99e5-76b7-46a9-b61c-b080b5da99ff",
   "metadata": {},
   "outputs": [
    {
     "name": "stdout",
     "output_type": "stream",
     "text": [
      "1 2 3 4 5 6 7 8 9 10 "
     ]
    }
   ],
   "source": [
    "num=1\n",
    "n=10\n",
    "while(num<=n):\n",
    "    print(num,end=\" \")\n",
    "    num+=1"
   ]
  },
  {
   "cell_type": "code",
   "execution_count": 4,
   "id": "6422e7de-fc33-4626-ac99-e6f9355fd137",
   "metadata": {},
   "outputs": [
    {
     "name": "stdout",
     "output_type": "stream",
     "text": [
      "10 9 8 7 6 5 4 3 2 1 "
     ]
    }
   ],
   "source": [
    "num=10\n",
    "n=1\n",
    "while(num>=n):\n",
    "    print(num,end=\" \")\n",
    "    num-=1"
   ]
  },
  {
   "cell_type": "code",
   "execution_count": 6,
   "id": "aa0d5f56-23f3-4028-84aa-2f389aee54c7",
   "metadata": {},
   "outputs": [
    {
     "name": "stdout",
     "output_type": "stream",
     "text": [
      "a b c d e f g h i j k l m n o p q r s t u v w x y z "
     ]
    }
   ],
   "source": [
    "num=97\n",
    "n=122\n",
    "while(num<=n):\n",
    "    print(chr(num),end=\" \")\n",
    "    num+=1"
   ]
  },
  {
   "cell_type": "code",
   "execution_count": 9,
   "id": "b05797ee-0f9e-4c0b-be52-fb995e7fec39",
   "metadata": {},
   "outputs": [
    {
     "name": "stdout",
     "output_type": "stream",
     "text": [
      "2 4 6 8 10 12 14 16 18 20 22 24 26 28 30 32 34 36 38 40 42 44 46 48 50 52 54 56 58 60 62 64 66 68 70 72 74 76 78 80 82 84 86 88 90 92 94 96 98 100 "
     ]
    }
   ],
   "source": [
    "num=1\n",
    "n=100\n",
    "while(num<=n):\n",
    "    if(num%2==0):\n",
    "        print(num,end=\" \")\n",
    "    num+=1"
   ]
  },
  {
   "cell_type": "code",
   "execution_count": 12,
   "id": "7afce0bd-1c74-430f-87e5-873402ae08ba",
   "metadata": {},
   "outputs": [
    {
     "name": "stdout",
     "output_type": "stream",
     "text": [
      "25 "
     ]
    }
   ],
   "source": [
    "num=1\n",
    "n=10\n",
    "sum=0\n",
    "while(num<=n):\n",
    "    if(num%2!=0):\n",
    "        sum+=num\n",
    "    num+=1\n",
    "    \n",
    "print(sum,end=\" \")\n",
    "    "
   ]
  },
  {
   "cell_type": "code",
   "execution_count": 14,
   "id": "f98e0a0b-d0dd-4406-aa90-e3bc2b14233e",
   "metadata": {},
   "outputs": [
    {
     "name": "stdout",
     "output_type": "stream",
     "text": [
      "7\n"
     ]
    }
   ],
   "source": [
    "num=2525407\n",
    "digit=0\n",
    "\n",
    "while(num>0):\n",
    "    num=num//10\n",
    "    digit+=1\n",
    "\n",
    "print(digit)"
   ]
  },
  {
   "cell_type": "code",
   "execution_count": 20,
   "id": "8e7d208c-8757-4d90-adc3-549bb19bfd96",
   "metadata": {},
   "outputs": [
    {
     "name": "stdout",
     "output_type": "stream",
     "text": [
      "last=  4\n",
      "first=  9\n"
     ]
    }
   ],
   "source": [
    "num=98704\n",
    "reverse=0\n",
    "\n",
    "last=num%10\n",
    "print(\"last= \",last)\n",
    "while(num>0):\n",
    "    rem=num%10\n",
    "    reverse=reverse*10+rem\n",
    "    num=num//10\n",
    "\n",
    "first=reverse%10\n",
    "print(\"first= \",first)"
   ]
  },
  {
   "cell_type": "code",
   "execution_count": 21,
   "id": "4a539dbd-a250-4637-b9ee-8c4100418c4c",
   "metadata": {},
   "outputs": [
    {
     "name": "stdout",
     "output_type": "stream",
     "text": [
      "last=  4\n",
      "first=  9\n",
      "sum of first and last=  13\n"
     ]
    }
   ],
   "source": [
    "num=98704\n",
    "reverse=0\n",
    "\n",
    "last=num%10\n",
    "print(\"last= \",last)\n",
    "while(num>0):\n",
    "    rem=num%10\n",
    "    reverse=reverse*10+rem\n",
    "    num=num//10\n",
    "\n",
    "first=reverse%10\n",
    "print(\"first= \",first)\n",
    "print(\"sum of first and last= \",first+last)"
   ]
  },
  {
   "cell_type": "code",
   "execution_count": 23,
   "id": "798507f0-c8bc-4495-b05a-b99b6f9a2796",
   "metadata": {},
   "outputs": [
    {
     "name": "stdin",
     "output_type": "stream",
     "text": [
      "Enter a number 7685\n"
     ]
    },
    {
     "name": "stdout",
     "output_type": "stream",
     "text": [
      "reverse=  5867\n"
     ]
    }
   ],
   "source": [
    "num=int(input(\"Enter a number\"))\n",
    "reverse=0\n",
    "while(num>0):\n",
    "    rem=num%10\n",
    "    reverse=reverse*10+rem\n",
    "    num=num//10\n",
    "\n",
    "print(\"reverse= \",reverse)\n"
   ]
  },
  {
   "cell_type": "code",
   "execution_count": 28,
   "id": "b25eb583-53ad-42d2-8c33-20c9c340ff5b",
   "metadata": {},
   "outputs": [
    {
     "name": "stdout",
     "output_type": "stream",
     "text": [
      "32\n"
     ]
    }
   ],
   "source": [
    "n,x=2,5\n",
    "p=1\n",
    "for i in range(x):\n",
    "    p=p*n\n",
    "\n",
    "print(p)"
   ]
  },
  {
   "cell_type": "code",
   "execution_count": 32,
   "id": "3e176468-c0ac-4167-a5bf-2beadf8dd420",
   "metadata": {},
   "outputs": [
    {
     "name": "stdout",
     "output_type": "stream",
     "text": [
      "1 7 "
     ]
    }
   ],
   "source": [
    "num=7\n",
    "for i in range(1,num+1):\n",
    "    if(num%i==0):\n",
    "        print(i,end=\" \")"
   ]
  },
  {
   "cell_type": "code",
   "execution_count": 6,
   "id": "27354188-15fd-4958-ad27-d0f3eeeebbbf",
   "metadata": {},
   "outputs": [
    {
     "name": "stdout",
     "output_type": "stream",
     "text": [
      "120\n"
     ]
    }
   ],
   "source": [
    "num=5\n",
    "fact=1\n",
    "while(num>0):\n",
    "    fact*=num\n",
    "    num-=1\n",
    "\n",
    "print(fact)"
   ]
  },
  {
   "cell_type": "code",
   "execution_count": 11,
   "id": "caef998a-6ea7-40bc-8e62-4ef98c3c65d7",
   "metadata": {},
   "outputs": [
    {
     "name": "stdin",
     "output_type": "stream",
     "text": [
      "Value 20\n",
      "Value 28\n"
     ]
    },
    {
     "name": "stdout",
     "output_type": "stream",
     "text": [
      "140 is the LCM of 20 and 28\n"
     ]
    }
   ],
   "source": [
    "a=int(input(\"Value\"))\n",
    "b=int(input(\"Value\"))\n",
    "maxNum=max(a,b)\n",
    "while(True):\n",
    "    if(maxNum%a==0 and maxNum%b==0):\n",
    "        lcm=maxNum\n",
    "        break\n",
    "    maxNum+=1\n",
    "\n",
    "print(f\"{lcm} is the LCM of {a} and {b}\")\n",
    "    \n",
    "    "
   ]
  },
  {
   "cell_type": "code",
   "execution_count": 4,
   "id": "a18957ca-128d-435c-8b76-0cc30f2aa262",
   "metadata": {},
   "outputs": [
    {
     "name": "stdin",
     "output_type": "stream",
     "text": [
      "value 8\n"
     ]
    },
    {
     "name": "stdout",
     "output_type": "stream",
     "text": [
      "not a Prime no\n"
     ]
    }
   ],
   "source": [
    "n=int(input(\"value\"))\n",
    "for i in range(2,n):\n",
    "    if(n%i==0):\n",
    "        print(\"not a Prime no\")\n",
    "        break\n",
    "    else:\n",
    "        print(\"Prime no\")\n",
    "        break\n",
    "\n",
    "if(n==2):\n",
    "    print(\"Prime no\")\n",
    "\n",
    "              \n",
    "\n"
   ]
  },
  {
   "cell_type": "code",
   "execution_count": 26,
   "id": "fc7d143d-ba99-4fcf-82bd-aeda849004c3",
   "metadata": {},
   "outputs": [
    {
     "name": "stdin",
     "output_type": "stream",
     "text": [
      "value 100\n"
     ]
    },
    {
     "name": "stdout",
     "output_type": "stream",
     "text": [
      "1 2 3 5 7 11 13 17 19 23 29 31 37 41 43 47 53 59 61 67 71 73 79 83 89 97 "
     ]
    }
   ],
   "source": [
    "n=int(input(\"value\"))\n",
    "for i in range(1,n+1):\n",
    "    for j in range(2,i):\n",
    "        if(i%j==0):\n",
    "            break\n",
    "\n",
    "    else:\n",
    "        print(i,end=\" \")\n",
    "        \n",
    "    \n",
    "    \n",
    "        \n",
    "\n",
    "\n",
    "              \n",
    "\n",
    "\n"
   ]
  },
  {
   "cell_type": "code",
   "execution_count": 31,
   "id": "f11991dd-4c8b-4743-b49e-6b9c1d5a9b1e",
   "metadata": {},
   "outputs": [
    {
     "name": "stdin",
     "output_type": "stream",
     "text": [
      "value 42\n"
     ]
    },
    {
     "name": "stdout",
     "output_type": "stream",
     "text": [
      "1 2 3 7 "
     ]
    }
   ],
   "source": [
    "n=int(input(\"value\"))\n",
    "for i in range(1,n):\n",
    "    for j in range(2,i):\n",
    "        if(i%j==0):\n",
    "            break\n",
    "\n",
    "    else:\n",
    "        if(n%i==0):\n",
    "            print(i,end=\" \")\n",
    "            n//i\n",
    "    \n",
    "        "
   ]
  },
  {
   "cell_type": "code",
   "execution_count": 2,
   "id": "61c5cb25-9b6c-497f-9b3a-10c9e0405e20",
   "metadata": {},
   "outputs": [
    {
     "name": "stdin",
     "output_type": "stream",
     "text": [
      "value 371\n"
     ]
    },
    {
     "name": "stdout",
     "output_type": "stream",
     "text": [
      "Armstrong\n"
     ]
    }
   ],
   "source": [
    "n=int(input(\"value\"))\n",
    "sum=0\n",
    "temp=n\n",
    "while(n>0):\n",
    "    rem=n%10\n",
    "    sum=sum+rem*rem*rem\n",
    "    n=n//10\n",
    "\n",
    "if(sum==temp):\n",
    "    print(\"Armstrong\")\n",
    "else:\n",
    "    print(\"not\")"
   ]
  },
  {
   "cell_type": "code",
   "execution_count": 15,
   "id": "fd75e945-a90d-4306-bc08-eb40d5c84308",
   "metadata": {},
   "outputs": [
    {
     "name": "stdin",
     "output_type": "stream",
     "text": [
      "value 145\n"
     ]
    },
    {
     "name": "stdout",
     "output_type": "stream",
     "text": [
      "Strong\n"
     ]
    }
   ],
   "source": [
    "n=int(input(\"value\"))\n",
    "sum=0\n",
    "temp=n\n",
    "fact=1\n",
    "while(n>0):\n",
    "    rem=n%10\n",
    "    for i in range(rem,0,-1):\n",
    "        fact=fact*i\n",
    "        \n",
    "    sum+=fact\n",
    "    fact=1\n",
    "    n=n//10\n",
    "\n",
    "if(sum==temp):\n",
    "    print(\"Strong\")\n",
    "else:\n",
    "    print(\"not\")"
   ]
  },
  {
   "cell_type": "code",
   "execution_count": 12,
   "id": "2681febb-61d3-4c36-9220-b5fd908fd666",
   "metadata": {},
   "outputs": [
    {
     "name": "stdin",
     "output_type": "stream",
     "text": [
      "value 28\n"
     ]
    },
    {
     "name": "stdout",
     "output_type": "stream",
     "text": [
      "perfect no\n"
     ]
    }
   ],
   "source": [
    "n=int(input(\"value\"))\n",
    "sum=0\n",
    "for i in range(1,n):\n",
    "    if(n%i==0):\n",
    "        #print(i,end=\" \")\n",
    "        sum+=i\n",
    "\n",
    "if(sum==n):\n",
    "    print(\"perfect no\")\n",
    "else:\n",
    "    print(\"Not\")\n",
    "\n",
    "        \n",
    "        "
   ]
  },
  {
   "cell_type": "code",
   "execution_count": 14,
   "id": "3825127f-8f74-40e4-8eeb-ea17486248c3",
   "metadata": {},
   "outputs": [
    {
     "name": "stdin",
     "output_type": "stream",
     "text": [
      "Value 10\n"
     ]
    },
    {
     "name": "stdout",
     "output_type": "stream",
     "text": [
      "0 1 1 2 3 5 8 13 21 34 "
     ]
    }
   ],
   "source": [
    "n=int(input(\"Value\"))\n",
    "n1=0\n",
    "n2=1\n",
    "print(n1,n2,end=\" \")\n",
    "for i in range(3,n+1):\n",
    "    n3=n1+n2\n",
    "    print(n3,end=\" \")\n",
    "    n1=n2\n",
    "    n2=n3\n"
   ]
  },
  {
   "cell_type": "code",
   "execution_count": 21,
   "id": "50100b48-e87f-43c3-8e71-fd6806b98b6f",
   "metadata": {},
   "outputs": [
    {
     "name": "stdin",
     "output_type": "stream",
     "text": [
      "value 01101110\n"
     ]
    },
    {
     "name": "stdout",
     "output_type": "stream",
     "text": [
      "2\n"
     ]
    }
   ],
   "source": [
    "n=int(input(\"value\"))\n",
    "sum=0\n",
    "new=0\n",
    "temp=n\n",
    "while(n>0):\n",
    "    rem=n%10\n",
    "    if(rem==0):\n",
    "        sum+=1\n",
    "    else:\n",
    "        sum+=0\n",
    "    n=n//10\n",
    "\n",
    "while(sum>0):\n",
    "    rem=sum%10\n",
    "    new+=rem\n",
    "    sum=sum//10\n",
    "\n",
    "print(new)\n",
    "        "
   ]
  },
  {
   "cell_type": "code",
   "execution_count": null,
   "id": "66d3d972-854e-4448-b0ea-a75760292468",
   "metadata": {},
   "outputs": [],
   "source": []
  }
 ],
 "metadata": {
  "kernelspec": {
   "display_name": "Python 3 (ipykernel)",
   "language": "python",
   "name": "python3"
  },
  "language_info": {
   "codemirror_mode": {
    "name": "ipython",
    "version": 3
   },
   "file_extension": ".py",
   "mimetype": "text/x-python",
   "name": "python",
   "nbconvert_exporter": "python",
   "pygments_lexer": "ipython3",
   "version": "3.11.8"
  }
 },
 "nbformat": 4,
 "nbformat_minor": 5
}
