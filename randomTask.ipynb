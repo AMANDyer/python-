{
 "cells": [
  {
   "cell_type": "code",
   "execution_count": 11,
   "id": "8605d4e6-7114-4926-b578-bc64a9cd0b74",
   "metadata": {},
   "outputs": [
    {
     "name": "stdin",
     "output_type": "stream",
     "text": [
      "Enter a value between 1 to 5= 5\n"
     ]
    }
   ],
   "source": [
    "import pywhatkit as pwk\n",
    "from datetime import datetime\n",
    "import os\n",
    "n=int(input(\"Enter a value between 1 to 5=\"))\n",
    "if(n==1):\n",
    "    print(datetime.now())\n",
    "elif(n==2):\n",
    "    desktop=os.path.join(os.path.expanduser(\"~\"),\"Desktop\")\n",
    "    folder_path=os.path.join(desktop,'random')\n",
    "    os.makedirs(folder_path)\n",
    "elif(n==3):\n",
    "    os._exit(0)\n",
    "elif(n==4):\n",
    "    number=\"+919521429741\"\n",
    "    message=\"Hey Newly\"\n",
    "    hour=21\n",
    "    minute=36\n",
    "    try:\n",
    "        pwk.sendwhatmsg(number,message,hour,minute)\n",
    "        print(\"sent successfullly\")\n",
    "    except exception as e:\n",
    "        print(f\"An error occured!{e}\")\n",
    "elif(n==5):\n",
    "    os.system(\"/s /t 1\")\n",
    "    "
   ]
  },
  {
   "cell_type": "code",
   "execution_count": null,
   "id": "3ca11837-0c06-40bb-8da3-35db7a7cec7f",
   "metadata": {},
   "outputs": [],
   "source": []
  }
 ],
 "metadata": {
  "kernelspec": {
   "display_name": "Python 3 (ipykernel)",
   "language": "python",
   "name": "python3"
  },
  "language_info": {
   "codemirror_mode": {
    "name": "ipython",
    "version": 3
   },
   "file_extension": ".py",
   "mimetype": "text/x-python",
   "name": "python",
   "nbconvert_exporter": "python",
   "pygments_lexer": "ipython3",
   "version": "3.11.8"
  }
 },
 "nbformat": 4,
 "nbformat_minor": 5
}
