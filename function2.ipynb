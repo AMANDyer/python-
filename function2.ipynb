{
 "cells": [
  {
   "cell_type": "code",
   "execution_count": 1,
   "id": "39a3532f-73bc-41f6-bde5-1a61c2f90a27",
   "metadata": {},
   "outputs": [
    {
     "name": "stdout",
     "output_type": "stream",
     "text": [
      "Aman\n"
     ]
    }
   ],
   "source": [
    "print(\"Aman\")"
   ]
  },
  {
   "cell_type": "code",
   "execution_count": 9,
   "id": "3039813e-c9e1-486a-8e72-4526118983e3",
   "metadata": {},
   "outputs": [
    {
     "name": "stdout",
     "output_type": "stream",
     "text": [
      "()\n",
      "(10, 20)\n",
      "(10, 50, 70)\n"
     ]
    }
   ],
   "source": [
    "#variable length argument\n",
    "def func(*x):\n",
    "     print(x)\n",
    "\n",
    "func()\n",
    "func(10,20)#gives tuple format\n",
    "func(10,50,70)"
   ]
  },
  {
   "cell_type": "code",
   "execution_count": 10,
   "id": "b2afa24e-eb0c-4956-ba64-7128105f4bf7",
   "metadata": {},
   "outputs": [
    {
     "name": "stdout",
     "output_type": "stream",
     "text": [
      "{}\n",
      "{'x': 10, 'y': 20}\n",
      "{'x': 10, 'y': 50, 'z': 70}\n"
     ]
    }
   ],
   "source": [
    "#keyword variable length argument\n",
    "def func(**x):\n",
    "     print(x)\n",
    "\n",
    "func()\n",
    "func(x=10,y=20)#gives dictionary format\n",
    "func(x=10,y=50,z=70)"
   ]
  },
  {
   "cell_type": "code",
   "execution_count": 15,
   "id": "e38658e7-1a40-443b-8f6f-9ef65dd1f8e4",
   "metadata": {},
   "outputs": [
    {
     "name": "stdout",
     "output_type": "stream",
     "text": [
      "hey\n"
     ]
    }
   ],
   "source": [
    "\n",
    "def func():\n",
    "     print(\"hey\")\n",
    "\n",
    "out=func\n",
    "#print(func,out)\n",
    "out()#both are refferencing to the same memory address"
   ]
  },
  {
   "cell_type": "code",
   "execution_count": 18,
   "id": "73eec033-e3aa-49de-b314-7d83350b95cf",
   "metadata": {},
   "outputs": [
    {
     "name": "stdout",
     "output_type": "stream",
     "text": [
      "140707934590024\n",
      "hey 10 140707934590024\n"
     ]
    }
   ],
   "source": [
    "#call by object reference\n",
    "def func(x):\n",
    "     print(\"hey\",x,id(x))\n",
    "a=10\n",
    "print(id(a))#passed the memory address only not the value\n",
    "func(a)"
   ]
  },
  {
   "cell_type": "code",
   "execution_count": 21,
   "id": "0064ce8f-c9ba-47f2-8bfb-ac71655c7ab0",
   "metadata": {},
   "outputs": [
    {
     "name": "stdout",
     "output_type": "stream",
     "text": [
      "140707934590024\n",
      "hey 10 140707934590024\n",
      "50 140707934591304\n",
      "10 140707934590024\n"
     ]
    }
   ],
   "source": [
    "#call by object reference\n",
    "def func(x):\n",
    "    print(\"hey\",x,id(x))\n",
    "    x=50#coz int is immutable data type\n",
    "    print(x,id(x))\n",
    "a=10\n",
    "print(id(a))#passed the memory address only not the value\n",
    "func(a)\n",
    "print(a,id(a))"
   ]
  },
  {
   "cell_type": "code",
   "execution_count": 24,
   "id": "c2e177f4-51c8-4ce0-9521-bdeaac24cff8",
   "metadata": {},
   "outputs": [
    {
     "name": "stdout",
     "output_type": "stream",
     "text": [
      "before func 2303338931648\n",
      "[10, 20] 2303338931648\n",
      "inside func [10, 20, 5] 2303338931648\n",
      "after func [10, 20, 5] 2303338931648\n"
     ]
    }
   ],
   "source": [
    "#call by object reference\n",
    "def func(mylist):\n",
    "    print(mylist,id(mylist))\n",
    "    mylist.append(5)#mutable data type\n",
    "    print(\"inside func\",mylist,id(mylist))\n",
    "mylist=[10,20]\n",
    "print(\"before func\",id(mylist))#passed the memory address only not the value\n",
    "func(mylist)\n",
    "print(\"after func\",mylist,id(mylist))"
   ]
  },
  {
   "cell_type": "code",
   "execution_count": 25,
   "id": "729d400b-fc6d-4a05-ae33-5ced99f7fe2e",
   "metadata": {},
   "outputs": [
    {
     "name": "stdout",
     "output_type": "stream",
     "text": [
      "30\n"
     ]
    }
   ],
   "source": [
    "def func(a,b):\n",
    "    return a+b\n",
    "\n",
    "out=func(10,20)\n",
    "print(out)"
   ]
  },
  {
   "cell_type": "code",
   "execution_count": 26,
   "id": "0147286d-6934-4bd7-bd73-ab21f4624521",
   "metadata": {},
   "outputs": [
    {
     "name": "stdout",
     "output_type": "stream",
     "text": [
      "30\n",
      "None\n"
     ]
    }
   ],
   "source": [
    "def func(a,b):\n",
    "    print(a+b)#there is no return\n",
    "\n",
    "out=func(10,20)\n",
    "print(out)"
   ]
  },
  {
   "cell_type": "code",
   "execution_count": 27,
   "id": "239f8ed8-b9a8-4f86-9578-d279a41fb35b",
   "metadata": {},
   "outputs": [
    {
     "name": "stdout",
     "output_type": "stream",
     "text": [
      "30\n",
      "200\n"
     ]
    }
   ],
   "source": [
    "def func(a,b):\n",
    "    print(a+b)#there is no return\n",
    "    return 200\n",
    "out=func(10,20)\n",
    "print(out)"
   ]
  },
  {
   "cell_type": "code",
   "execution_count": 33,
   "id": "0750d42d-130f-40c0-8f4c-87368d928f33",
   "metadata": {},
   "outputs": [
    {
     "name": "stdout",
     "output_type": "stream",
     "text": [
      "Aman\n"
     ]
    }
   ],
   "source": [
    "def func(a,b):\n",
    "    return \"Aman\"#first return breaks the function\n",
    "    return a+b+100#doesnt print\n",
    "    print(a+b)#doesnt print\n",
    "out=func(10,20)\n",
    "print(out)"
   ]
  },
  {
   "cell_type": "code",
   "execution_count": null,
   "id": "e1128bf1-a8f9-4707-b566-2bc8998b66c6",
   "metadata": {},
   "outputs": [],
   "source": []
  }
 ],
 "metadata": {
  "kernelspec": {
   "display_name": "Python 3 (ipykernel)",
   "language": "python",
   "name": "python3"
  },
  "language_info": {
   "codemirror_mode": {
    "name": "ipython",
    "version": 3
   },
   "file_extension": ".py",
   "mimetype": "text/x-python",
   "name": "python",
   "nbconvert_exporter": "python",
   "pygments_lexer": "ipython3",
   "version": "3.11.8"
  }
 },
 "nbformat": 4,
 "nbformat_minor": 5
}
