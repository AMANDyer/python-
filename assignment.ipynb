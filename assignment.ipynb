{
 "cells": [
  {
   "cell_type": "code",
   "execution_count": 1,
   "id": "61710bbf-8907-4e2a-8c83-e62724661be0",
   "metadata": {},
   "outputs": [
    {
     "name": "stdout",
     "output_type": "stream",
     "text": [
      "5050\n"
     ]
    }
   ],
   "source": [
    "#cummulative sum\n",
    "sum=0\n",
    "for i in range(1,101):\n",
    "    sum+=i\n",
    "\n",
    "print(sum)"
   ]
  },
  {
   "cell_type": "code",
   "execution_count": 5,
   "id": "f695b1eb-6295-4f7e-b619-f7bafc1a4f21",
   "metadata": {},
   "outputs": [
    {
     "name": "stdin",
     "output_type": "stream",
     "text": [
      "value 20\n"
     ]
    },
    {
     "name": "stdout",
     "output_type": "stream",
     "text": [
      "1 2 4 5 10 20 "
     ]
    }
   ],
   "source": [
    "#factors\n",
    "n=int(input(\"value\"))\n",
    "for i in range(1,n+1):\n",
    "    if(n%i==0):\n",
    "        print(i,end=\" \")"
   ]
  },
  {
   "cell_type": "code",
   "execution_count": 10,
   "id": "796f8c77-cdf0-40d8-b763-96ad02696918",
   "metadata": {},
   "outputs": [
    {
     "name": "stdin",
     "output_type": "stream",
     "text": [
      "value 17\n"
     ]
    },
    {
     "name": "stdout",
     "output_type": "stream",
     "text": [
      "2\n"
     ]
    }
   ],
   "source": [
    "#factors\n",
    "n=int(input(\"value\"))\n",
    "count=0\n",
    "for i in range(1,n+1):\n",
    "    if(n%i==0):\n",
    "        count+=1\n",
    "\n",
    "if(count<=2):\n",
    "    print(count)\n",
    "else:\n",
    "    print(f\"{count} more than two factors\")"
   ]
  },
  {
   "cell_type": "code",
   "execution_count": 22,
   "id": "16eaeb4a-57e8-4220-a874-38e3d4737663",
   "metadata": {},
   "outputs": [
    {
     "name": "stdout",
     "output_type": "stream",
     "text": [
      "[5, 21]\n"
     ]
    }
   ],
   "source": [
    "#using odd from them create new list\n",
    "list1=[10,14,5,16]\n",
    "list2=[21,14,12,10]\n",
    "myList=[]\n",
    "for i in list1:\n",
    "    if(i%2!=0):\n",
    "        myList.append(i)\n",
    "for i in list2:\n",
    "    if(i%2!=0):\n",
    "        myList.append(i)\n",
    "\n",
    "        \n",
    "print(myList)\n",
    "\n"
   ]
  },
  {
   "cell_type": "code",
   "execution_count": 25,
   "id": "c4bf605a-4ad1-419d-ad53-523d8f449854",
   "metadata": {},
   "outputs": [
    {
     "name": "stdin",
     "output_type": "stream",
     "text": [
      "value 123454321\n"
     ]
    },
    {
     "name": "stdout",
     "output_type": "stream",
     "text": [
      "Palindrome\n"
     ]
    }
   ],
   "source": [
    "#Palindrome\n",
    "n=int(input(\"value\"))\n",
    "temp=n\n",
    "s=0\n",
    "while(n>0):\n",
    "    r=n%10\n",
    "    s=s*10+r\n",
    "    n=n//10\n",
    "\n",
    "if(temp==s):\n",
    "    print(\"Palindrome\")\n",
    "else:\n",
    "    print(\"Not\")\n"
   ]
  },
  {
   "cell_type": "code",
   "execution_count": 37,
   "id": "2a81d3d6-8807-4937-81c7-bc76e991bc35",
   "metadata": {},
   "outputs": [
    {
     "name": "stdin",
     "output_type": "stream",
     "text": [
      "value 2\n",
      "value 3\n"
     ]
    },
    {
     "name": "stdout",
     "output_type": "stream",
     "text": [
      "6\n"
     ]
    }
   ],
   "source": [
    "#lcm\n",
    "a=int(input(\"value\"))\n",
    "b=int(input(\"value\"))\n",
    "new=max(a,b)\n",
    "lcm=False\n",
    "while(lcm==False):\n",
    "    if(new%a==0 and new%b==0):\n",
    "        print(new)\n",
    "        lcm=True\n",
    "    else:\n",
    "        new+=1\n",
    "    "
   ]
  },
  {
   "cell_type": "code",
   "execution_count": 38,
   "id": "22c99375-8d8e-4748-bf02-b74f86acc490",
   "metadata": {},
   "outputs": [
    {
     "name": "stdin",
     "output_type": "stream",
     "text": [
      "value 5\n"
     ]
    },
    {
     "name": "stdout",
     "output_type": "stream",
     "text": [
      "120\n"
     ]
    }
   ],
   "source": [
    "#factorial\n",
    "n=int(input(\"value\"))\n",
    "fact=1\n",
    "for i in range(n,0,-1):\n",
    "    fact*=i\n",
    "\n",
    "print(fact)"
   ]
  },
  {
   "cell_type": "code",
   "execution_count": 68,
   "id": "6cddc954-87b0-468e-aa0d-eb63661571e7",
   "metadata": {},
   "outputs": [
    {
     "name": "stdout",
     "output_type": "stream",
     "text": [
      "maximum value= 101\n",
      "second maximum value= 98\n",
      "minimum value= 2\n",
      "[56, 98, 101, 2, 45]\n"
     ]
    }
   ],
   "source": [
    "#list Tasks\n",
    "myList=[56,98,101,2,45]\n",
    "newlist=[]\n",
    "max=0\n",
    "min=0\n",
    "secMax=0\n",
    "index=0\n",
    "for i in range(0,len(myList)-1):\n",
    "    if(myList[index]>=myList[i]):\n",
    "        max=myList[index]\n",
    "    else:\n",
    "        max=0\n",
    "        secMax=myList[index]\n",
    "        index+=1\n",
    "        \n",
    "for i in range(0,len(myList)-1):\n",
    "    if(myList[index]<=myList[i]):\n",
    "        min=myList[index]\n",
    "    else:\n",
    "        min=0\n",
    "        index+=1\n",
    "\n",
    "for i in range(0,len(myList)-1):\n",
    "    if(myList[index]<=myList[i]):\n",
    "        newlist.append(myList[index])\n",
    "    else:\n",
    "        max=0\n",
    "        secMax=myList[index]\n",
    "        index+=1\n",
    "\n",
    "\n",
    "print(\"maximum value=\",max)\n",
    "print(\"second maximum value=\",secMax)\n",
    "print(\"minimum value=\",min)\n",
    "print(myList)\n",
    "\n",
    "    "
   ]
  },
  {
   "cell_type": "code",
   "execution_count": 3,
   "id": "233e64de-777d-423f-8ba1-d23441ad6b2b",
   "metadata": {},
   "outputs": [
    {
     "name": "stdout",
     "output_type": "stream",
     "text": [
      "101\n"
     ]
    }
   ],
   "source": [
    "list=[50,98,101,2,45]\n",
    "max=list[0]\n",
    "for i in range(0,len(list)):\n",
    "    if(list[i]>max):\n",
    "        max=list[i]\n",
    "\n",
    "print(max)"
   ]
  },
  {
   "cell_type": "code",
   "execution_count": 5,
   "id": "b5c71dd7-0601-47ea-b0b4-19c4713071db",
   "metadata": {},
   "outputs": [
    {
     "name": "stdout",
     "output_type": "stream",
     "text": [
      "0\n"
     ]
    }
   ],
   "source": [
    "list=[0,98,101,2,45]\n",
    "min=list[0]\n",
    "for i in range(0,len(list)):\n",
    "    if(list[i]<min):\n",
    "        min=list[i]\n",
    "\n",
    "print(min)"
   ]
  },
  {
   "cell_type": "code",
   "execution_count": 1,
   "id": "7df5bde4-fb48-44db-9068-8bc02992332d",
   "metadata": {},
   "outputs": [
    {
     "name": "stdout",
     "output_type": "stream",
     "text": [
      "0\n"
     ]
    }
   ],
   "source": [
    "list=[0,98,101,2,45]\n",
    "min=list[0]\n",
    "for i in range(0,len(list)):\n",
    "    if(list[i]<min):\n",
    "        min=list[i]\n",
    "\n",
    "print(min)"
   ]
  },
  {
   "cell_type": "code",
   "execution_count": 4,
   "id": "c7d12e6c-6482-4ae2-b835-81047b152a2f",
   "metadata": {},
   "outputs": [
    {
     "name": "stdout",
     "output_type": "stream",
     "text": [
      "[0, 2, 5, 98, 101, 5, 45]\n",
      "[0, 2, 5, 5, 101, 98, 45]\n",
      "[0, 2, 5, 5, 98, 101, 45]\n",
      "[0, 2, 5, 5, 45, 101, 98]\n",
      "[0, 2, 5, 5, 45, 98, 101]\n",
      "[0, 2, 5, 5, 45, 98, 101]\n"
     ]
    }
   ],
   "source": [
    "#sort\n",
    "list=[0,5,5,98,101,2,45]\n",
    "for i in range(0,len(list)):\n",
    "    for j in range(i+1,len(list)):\n",
    "        if (list[i]>list[j]):\n",
    "            temp=list[i]\n",
    "            list[i]=list[j]\n",
    "            list[j]=temp\n",
    "            print(list)\n",
    "\n",
    "print(list)"
   ]
  },
  {
   "cell_type": "code",
   "execution_count": 6,
   "id": "2870f20c-941d-4637-ab8f-ca5662d0431e",
   "metadata": {},
   "outputs": [
    {
     "name": "stdout",
     "output_type": "stream",
     "text": [
      "9\n"
     ]
    }
   ],
   "source": [
    "list1=[10,9,8,7,6,5]\n",
    "max1=list[0]\n",
    "sec=0\n",
    "for i in range(0,len(list1)):\n",
    "    if(max1<list1[i]):\n",
    "        sec=max1\n",
    "        max1=list1[i]\n",
    "    elif(list1[i]>sec and list1[i]!=max1):\n",
    "        sec=list1[i]\n",
    "\n",
    "print(sec)"
   ]
  },
  {
   "cell_type": "code",
   "execution_count": null,
   "id": "fad08335-6643-4b84-9494-4dbd9b59f370",
   "metadata": {},
   "outputs": [],
   "source": []
  }
 ],
 "metadata": {
  "kernelspec": {
   "display_name": "Python 3 (ipykernel)",
   "language": "python",
   "name": "python3"
  },
  "language_info": {
   "codemirror_mode": {
    "name": "ipython",
    "version": 3
   },
   "file_extension": ".py",
   "mimetype": "text/x-python",
   "name": "python",
   "nbconvert_exporter": "python",
   "pygments_lexer": "ipython3",
   "version": "3.11.8"
  }
 },
 "nbformat": 4,
 "nbformat_minor": 5
}
