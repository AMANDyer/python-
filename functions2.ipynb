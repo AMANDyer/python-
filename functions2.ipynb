{
 "cells": [
  {
   "cell_type": "code",
   "execution_count": 2,
   "id": "0a6830db-e5bb-4874-a5f2-ad0bade61054",
   "metadata": {},
   "outputs": [
    {
     "name": "stdout",
     "output_type": "stream",
     "text": [
      "<function outer_func at 0x000002A97DAAD8A0> <function outer_func at 0x000002A97DAAD8A0>\n",
      "Hey\n",
      "None\n"
     ]
    }
   ],
   "source": [
    "#first class functions\n",
    "def outer_func():\n",
    "    print(\"Hey\")\n",
    "#here we assigned a function to a variable\n",
    "x=outer_func#gives memory address\n",
    "print(x,outer_func)#same memory address\n",
    "print(x())"
   ]
  },
  {
   "cell_type": "code",
   "execution_count": 7,
   "id": "054edeb2-542d-4434-bbda-677e0e755083",
   "metadata": {},
   "outputs": [
    {
     "name": "stdout",
     "output_type": "stream",
     "text": [
      "this is a test case <function outer_func at 0x000002A97DAAE160>\n",
      "hey\n"
     ]
    }
   ],
   "source": [
    "def outer_func():\n",
    "    #print(\"Hey\")\n",
    "    return \"hey\"\n",
    "#high order function\n",
    "def test(x):\n",
    "    print(\"this is a test case\",x)\n",
    "    print(x())#coz now x has memory address of outer func\n",
    "#coz no return =none\n",
    "#coz returns hey\n",
    "#test(outer_func())\n",
    "test(outer_func)#gives memory address"
   ]
  },
  {
   "cell_type": "code",
   "execution_count": 32,
   "id": "842b894e-2e1c-4000-8171-f831698df576",
   "metadata": {},
   "outputs": [
    {
     "name": "stdout",
     "output_type": "stream",
     "text": [
      "130\n",
      "84\n"
     ]
    }
   ],
   "source": [
    "def lcm(x,y):\n",
    "    if(x>y):\n",
    "        greater=x\n",
    "    else:\n",
    "        greater=y\n",
    "    \n",
    "    while(True):\n",
    "        if(greater%x==0 and greater%y==0):\n",
    "            return greater\n",
    "        else:\n",
    "            greater+=1\n",
    "\n",
    "x=lcm(10,13)\n",
    "print(x)\n",
    "lcm(x,4)\n",
    "#variable assigned to a data structure\n",
    "def abc():\n",
    "    dic={\"a\":lcm,\"b\":abc,\"c\":abc}\n",
    "    print(dic[\"a\"](12,14))\n",
    "abc()"
   ]
  },
  {
   "cell_type": "code",
   "execution_count": 17,
   "id": "3edf12d3-8143-44bc-ba2e-5ebc66a67d13",
   "metadata": {},
   "outputs": [
    {
     "ename": "KeyboardInterrupt",
     "evalue": "",
     "output_type": "error",
     "traceback": [
      "\u001b[31m---------------------------------------------------------------------------\u001b[39m",
      "\u001b[31mKeyboardInterrupt\u001b[39m                         Traceback (most recent call last)",
      "\u001b[36mCell\u001b[39m\u001b[36m \u001b[39m\u001b[32mIn[17]\u001b[39m\u001b[32m, line 13\u001b[39m\n\u001b[32m     10\u001b[39m         \u001b[38;5;28;01melse\u001b[39;00m:\n\u001b[32m     11\u001b[39m             mini+=\u001b[32m1\u001b[39m\n\u001b[32m---> \u001b[39m\u001b[32m13\u001b[39m x=\u001b[43mlcm\u001b[49m\u001b[43m(\u001b[49m\u001b[32;43m36\u001b[39;49m\u001b[43m,\u001b[49m\u001b[32;43m60\u001b[39;49m\u001b[43m)\u001b[49m\n\u001b[32m     14\u001b[39m \u001b[38;5;28mprint\u001b[39m(x)\n",
      "\u001b[36mCell\u001b[39m\u001b[36m \u001b[39m\u001b[32mIn[17]\u001b[39m\u001b[32m, line 7\u001b[39m, in \u001b[36mlcm\u001b[39m\u001b[34m(x, y)\u001b[39m\n\u001b[32m      4\u001b[39m \u001b[38;5;28;01melse\u001b[39;00m:\n\u001b[32m      5\u001b[39m     mini=y\n\u001b[32m----> \u001b[39m\u001b[32m7\u001b[39m \u001b[38;5;28;01mwhile\u001b[39;00m(\u001b[38;5;28;01mTrue\u001b[39;00m):\n\u001b[32m      8\u001b[39m     \u001b[38;5;28;01mif\u001b[39;00m(x%mini==\u001b[32m0\u001b[39m \u001b[38;5;129;01mand\u001b[39;00m y%mini==\u001b[32m0\u001b[39m):\n\u001b[32m      9\u001b[39m         \u001b[38;5;28;01mreturn\u001b[39;00m mini\n",
      "\u001b[31mKeyboardInterrupt\u001b[39m: "
     ]
    }
   ],
   "source": []
  },
  {
   "cell_type": "code",
   "execution_count": 14,
   "id": "ee2346b8-255b-419e-a152-08cedae986eb",
   "metadata": {},
   "outputs": [
    {
     "name": "stdout",
     "output_type": "stream",
     "text": [
      "The HCF of 36 and 60 is: 12\n"
     ]
    }
   ],
   "source": [
    "def calculate_hcf(x, y):\n",
    "    # Find the smaller number\n",
    "    smaller = min(x, y)\n",
    "    for i in range(1, smaller + 1):\n",
    "        if x % i == 0 and y % i == 0:\n",
    "            hcf = i\n",
    "    return hcf\n",
    "\n",
    "# Example usage\n",
    "num1 = 36\n",
    "num2 = 60\n",
    "\n",
    "print(\"The HCF of\", num1, \"and\", num2, \"is:\", calculate_hcf(num1, num2))\n"
   ]
  },
  {
   "cell_type": "code",
   "execution_count": 33,
   "id": "54e6f519-f160-439d-a3a5-f94a5a569350",
   "metadata": {},
   "outputs": [
    {
     "ename": "RecursionError",
     "evalue": "maximum recursion depth exceeded",
     "output_type": "error",
     "traceback": [
      "\u001b[31m---------------------------------------------------------------------------\u001b[39m",
      "\u001b[31mRecursionError\u001b[39m                            Traceback (most recent call last)",
      "\u001b[36mCell\u001b[39m\u001b[36m \u001b[39m\u001b[32mIn[33]\u001b[39m\u001b[32m, line 4\u001b[39m\n\u001b[32m      2\u001b[39m     dic={\u001b[33m\"\u001b[39m\u001b[33ma\u001b[39m\u001b[33m\"\u001b[39m:abc,\u001b[33m\"\u001b[39m\u001b[33mb\u001b[39m\u001b[33m\"\u001b[39m:abc,\u001b[33m\"\u001b[39m\u001b[33mc\u001b[39m\u001b[33m\"\u001b[39m:abc}\n\u001b[32m      3\u001b[39m     \u001b[38;5;28mprint\u001b[39m(dic[\u001b[33m\"\u001b[39m\u001b[33ma\u001b[39m\u001b[33m\"\u001b[39m]())\n\u001b[32m----> \u001b[39m\u001b[32m4\u001b[39m \u001b[43mabc\u001b[49m\u001b[43m(\u001b[49m\u001b[43m)\u001b[49m\n",
      "\u001b[36mCell\u001b[39m\u001b[36m \u001b[39m\u001b[32mIn[33]\u001b[39m\u001b[32m, line 3\u001b[39m, in \u001b[36mabc\u001b[39m\u001b[34m()\u001b[39m\n\u001b[32m      1\u001b[39m \u001b[38;5;28;01mdef\u001b[39;00m\u001b[38;5;250m \u001b[39m\u001b[34mabc\u001b[39m():\n\u001b[32m      2\u001b[39m     dic={\u001b[33m\"\u001b[39m\u001b[33ma\u001b[39m\u001b[33m\"\u001b[39m:abc,\u001b[33m\"\u001b[39m\u001b[33mb\u001b[39m\u001b[33m\"\u001b[39m:abc,\u001b[33m\"\u001b[39m\u001b[33mc\u001b[39m\u001b[33m\"\u001b[39m:abc}\n\u001b[32m----> \u001b[39m\u001b[32m3\u001b[39m     \u001b[38;5;28mprint\u001b[39m(\u001b[43mdic\u001b[49m\u001b[43m[\u001b[49m\u001b[33;43m\"\u001b[39;49m\u001b[33;43ma\u001b[39;49m\u001b[33;43m\"\u001b[39;49m\u001b[43m]\u001b[49m\u001b[43m(\u001b[49m\u001b[43m)\u001b[49m)\n",
      "\u001b[36mCell\u001b[39m\u001b[36m \u001b[39m\u001b[32mIn[33]\u001b[39m\u001b[32m, line 3\u001b[39m, in \u001b[36mabc\u001b[39m\u001b[34m()\u001b[39m\n\u001b[32m      1\u001b[39m \u001b[38;5;28;01mdef\u001b[39;00m\u001b[38;5;250m \u001b[39m\u001b[34mabc\u001b[39m():\n\u001b[32m      2\u001b[39m     dic={\u001b[33m\"\u001b[39m\u001b[33ma\u001b[39m\u001b[33m\"\u001b[39m:abc,\u001b[33m\"\u001b[39m\u001b[33mb\u001b[39m\u001b[33m\"\u001b[39m:abc,\u001b[33m\"\u001b[39m\u001b[33mc\u001b[39m\u001b[33m\"\u001b[39m:abc}\n\u001b[32m----> \u001b[39m\u001b[32m3\u001b[39m     \u001b[38;5;28mprint\u001b[39m(\u001b[43mdic\u001b[49m\u001b[43m[\u001b[49m\u001b[33;43m\"\u001b[39;49m\u001b[33;43ma\u001b[39;49m\u001b[33;43m\"\u001b[39;49m\u001b[43m]\u001b[49m\u001b[43m(\u001b[49m\u001b[43m)\u001b[49m)\n",
      "    \u001b[31m[... skipping similar frames: abc at line 3 (2970 times)]\u001b[39m\n",
      "\u001b[36mCell\u001b[39m\u001b[36m \u001b[39m\u001b[32mIn[33]\u001b[39m\u001b[32m, line 3\u001b[39m, in \u001b[36mabc\u001b[39m\u001b[34m()\u001b[39m\n\u001b[32m      1\u001b[39m \u001b[38;5;28;01mdef\u001b[39;00m\u001b[38;5;250m \u001b[39m\u001b[34mabc\u001b[39m():\n\u001b[32m      2\u001b[39m     dic={\u001b[33m\"\u001b[39m\u001b[33ma\u001b[39m\u001b[33m\"\u001b[39m:abc,\u001b[33m\"\u001b[39m\u001b[33mb\u001b[39m\u001b[33m\"\u001b[39m:abc,\u001b[33m\"\u001b[39m\u001b[33mc\u001b[39m\u001b[33m\"\u001b[39m:abc}\n\u001b[32m----> \u001b[39m\u001b[32m3\u001b[39m     \u001b[38;5;28mprint\u001b[39m(\u001b[43mdic\u001b[49m\u001b[43m[\u001b[49m\u001b[33;43m\"\u001b[39;49m\u001b[33;43ma\u001b[39;49m\u001b[33;43m\"\u001b[39;49m\u001b[43m]\u001b[49m\u001b[43m(\u001b[49m\u001b[43m)\u001b[49m)\n",
      "\u001b[31mRecursionError\u001b[39m: maximum recursion depth exceeded"
     ]
    }
   ],
   "source": [
    "def abc():\n",
    "    dic={\"a\":abc,\"b\":abc,\"c\":abc}\n",
    "    print(dic[\"a\"]())\n",
    "abc()"
   ]
  },
  {
   "cell_type": "code",
   "execution_count": 47,
   "id": "b6545e9f-85b8-4e54-a0e4-260b109af549",
   "metadata": {},
   "outputs": [
    {
     "name": "stdout",
     "output_type": "stream",
     "text": [
      "false\n"
     ]
    }
   ],
   "source": [
    "def search(dic,search):\n",
    "    for i in dic.keys():\n",
    "        if(i==search):\n",
    "            return \"true\"\n",
    "        else:\n",
    "            return\"false\"\n",
    "\n",
    "\n",
    "dic={\"aman\":70,\"manan\":60,\"Ram\":30}\n",
    "x=\"amam\"\n",
    "print(search(dic,x))"
   ]
  },
  {
   "cell_type": "code",
   "execution_count": null,
   "id": "eea513a2-dbad-4fd3-ab67-a53e1b0628ad",
   "metadata": {},
   "outputs": [],
   "source": []
  },
  {
   "cell_type": "code",
   "execution_count": null,
   "id": "087cc683-b8b0-4e96-85e6-e3a346624bfd",
   "metadata": {},
   "outputs": [],
   "source": []
  }
 ],
 "metadata": {
  "kernelspec": {
   "display_name": "Python 3 (ipykernel)",
   "language": "python",
   "name": "python3"
  },
  "language_info": {
   "codemirror_mode": {
    "name": "ipython",
    "version": 3
   },
   "file_extension": ".py",
   "mimetype": "text/x-python",
   "name": "python",
   "nbconvert_exporter": "python",
   "pygments_lexer": "ipython3",
   "version": "3.11.8"
  }
 },
 "nbformat": 4,
 "nbformat_minor": 5
}
