{
 "cells": [
  {
   "cell_type": "code",
   "execution_count": 3,
   "id": "88601547-0d1c-4ee4-ad48-0cee4d7a3362",
   "metadata": {},
   "outputs": [
    {
     "name": "stdout",
     "output_type": "stream",
     "text": [
      "99\n"
     ]
    }
   ],
   "source": [
    "numbers=[10,20,4,45,99]\n",
    "maximum=numbers[0]\n",
    "for i in range(0,len(numbers)):\n",
    "    if(numbers[i]>maximum):\n",
    "        maximum=numbers[i]\n",
    "\n",
    "print(maximum)"
   ]
  },
  {
   "cell_type": "code",
   "execution_count": 4,
   "id": "92bc5d1f-1521-481c-8249-3c9346861e26",
   "metadata": {},
   "outputs": [
    {
     "name": "stdout",
     "output_type": "stream",
     "text": [
      "100\n"
     ]
    }
   ],
   "source": [
    "numbers=[10,20,30,40]\n",
    "sum=0\n",
    "for i in numbers:\n",
    "    sum+=i\n",
    "\n",
    "print(sum)"
   ]
  },
  {
   "cell_type": "code",
   "execution_count": 18,
   "id": "35b4e072-7a11-482f-aa98-1656cc58b65a",
   "metadata": {},
   "outputs": [
    {
     "name": "stdout",
     "output_type": "stream",
     "text": [
      "[5, 4, 3, 2, 1]\n"
     ]
    }
   ],
   "source": [
    "numbers=[1,2,3,4,5]\n",
    "reverse=[]\n",
    "for i in range(len(numbers)-1,-1,-1):\n",
    "    reverse.append(numbers[i])\n",
    "print(reverse)"
   ]
  },
  {
   "cell_type": "code",
   "execution_count": 21,
   "id": "bf7f3f59-f324-43b5-bffa-c2188fd03061",
   "metadata": {},
   "outputs": [
    {
     "name": "stdout",
     "output_type": "stream",
     "text": [
      "[1, 2, 5, 34, 70, 90]\n"
     ]
    }
   ],
   "source": [
    "myList=[2,90,70,5,34,1]\n",
    "for i in range(0,len(myList)):\n",
    "    for j in range(i+1,len(myList)):\n",
    "        if (myList[i]>myList[j]):\n",
    "            temp=myList[i]\n",
    "            myList[i]=myList[j]\n",
    "            myList[j]=temp\n",
    "\n",
    "print(myList)"
   ]
  },
  {
   "cell_type": "code",
   "execution_count": 3,
   "id": "6c799268-07b6-4f22-a45e-ae723b3a1d9f",
   "metadata": {},
   "outputs": [
    {
     "name": "stdout",
     "output_type": "stream",
     "text": [
      "[1, 2, 3, 4, 5]\n"
     ]
    }
   ],
   "source": [
    "numbers=[1,2,2,3,4,4,5]\n",
    "newList=[]\n",
    "for i in numbers:\n",
    "    if i not in newList:\n",
    "        newList.append(i)\n",
    "numbers[:]=newList\n",
    "print(numbers)\n",
    "    \n",
    "        "
   ]
  },
  {
   "cell_type": "code",
   "execution_count": 66,
   "id": "883b503b-d768-4c30-9b36-dfec2628735d",
   "metadata": {},
   "outputs": [
    {
     "name": "stdout",
     "output_type": "stream",
     "text": [
      "1 5\n",
      "3 3\n",
      "2 4\n"
     ]
    }
   ],
   "source": [
    "numbers=[1,2,3,4,3,5,6]\n",
    "s=0\n",
    "e=len(numbers)-1\n",
    "target=6\n",
    "while(s<e):\n",
    "    if(numbers[s]+numbers[e]==target):\n",
    "        print(numbers[s],numbers[e])\n",
    "        e-=1\n",
    "        s=0\n",
    "    elif(numbers[s]+numbers[e]>target):\n",
    "        e-=1\n",
    "    else:\n",
    "        s+=1"
   ]
  },
  {
   "cell_type": "code",
   "execution_count": 33,
   "id": "f275d19b-a755-47f9-99fc-af1aca25c867",
   "metadata": {},
   "outputs": [
    {
     "name": "stdout",
     "output_type": "stream",
     "text": [
      "[1, 2, 3, 4, 9, 5, 7, 8]\n"
     ]
    }
   ],
   "source": [
    "nested_list=[1,[2,3],[4,[9,5],7],8]\n",
    "flattend=[]\n",
    "def func(mylist):\n",
    "    for i in mylist:\n",
    "        if type(i)!=type(nested_list):\n",
    "            flattend.append(i)\n",
    "        else:\n",
    "            func(i)\n",
    "\n",
    "    return flattend\n",
    "print(func(nested_list))"
   ]
  },
  {
   "cell_type": "code",
   "execution_count": 35,
   "id": "7c25b40c-8709-4a8d-9570-6ac0efa34da0",
   "metadata": {},
   "outputs": [
    {
     "name": "stdout",
     "output_type": "stream",
     "text": [
      "9\n"
     ]
    }
   ],
   "source": [
    "myList=[1,2,3,4,5]\n",
    "smallest=0\n",
    "greatest=0\n",
    "total=0\n",
    "for i in range(0,len(myList)):\n",
    "    for j in range(i+1,len(myList)):\n",
    "        if (myList[i]>myList[j]):\n",
    "            temp=myList[i]\n",
    "            myList[i]=myList[j]\n",
    "            myList[j]=temp\n",
    "\n",
    "    smallest=myList[0]\n",
    "    greatest=myList[len(myList)-1]\n",
    "for i in myList:\n",
    "    if i!=smallest and i!=greatest:\n",
    "        total+=i\n",
    "\n",
    "print(total)"
   ]
  },
  {
   "cell_type": "code",
   "execution_count": 51,
   "id": "34b4b0e1-7aec-4a04-8f81-a3491c62911b",
   "metadata": {},
   "outputs": [
    {
     "name": "stdout",
     "output_type": "stream",
     "text": [
      "True\n"
     ]
    }
   ],
   "source": [
    "numbers=[1,2,3,2,1]\n",
    "e=len(numbers)-1\n",
    "for i in range(0,len(numbers)):\n",
    "    s=i\n",
    "    if(numbers[s]==numbers[e]):\n",
    "        palindrome=True\n",
    "        e-=1\n",
    "    else:\n",
    "        palindrome=False\n",
    "        break\n",
    "\n",
    "if(palindrome):\n",
    "    print(\"True\")\n",
    "else:\n",
    "    print(\"False\")"
   ]
  },
  {
   "cell_type": "code",
   "execution_count": 7,
   "id": "fee6a46a-f3c8-4c4b-bfc4-c47e958353f5",
   "metadata": {},
   "outputs": [
    {
     "name": "stdout",
     "output_type": "stream",
     "text": [
      "[1, 2, 3, 4, 5, 6]\n"
     ]
    }
   ],
   "source": [
    "def func(myList):\n",
    "    newList=[]\n",
    "    for i in myList:\n",
    "        if i not in newList:\n",
    "            newList.append(i)\n",
    "    myList[:]=newList\n",
    "    return myList\n",
    "numbers=[1,2,3,2,4,5,1,6]\n",
    "print(func(numbers))"
   ]
  },
  {
   "cell_type": "code",
   "execution_count": 8,
   "id": "2be56037-fc0c-46b1-ae87-2536b1c93e52",
   "metadata": {},
   "outputs": [
    {
     "name": "stdout",
     "output_type": "stream",
     "text": [
      "[3, 4, 5]\n"
     ]
    }
   ],
   "source": [
    "list1=[1,2,3,4,5]\n",
    "list2=[3,4,5,6,7]\n",
    "result=[]\n",
    "for i in list1:\n",
    "    if i in list2:\n",
    "        result.append(i)\n",
    "\n",
    "print(result)"
   ]
  },
  {
   "cell_type": "code",
   "execution_count": 17,
   "id": "c6a2fa1f-d471-493d-ba61-d73c8472c886",
   "metadata": {},
   "outputs": [
    {
     "name": "stdout",
     "output_type": "stream",
     "text": [
      "strawberry\n"
     ]
    }
   ],
   "source": [
    "words=[\"apple\",\"banana\",\"strawberry\",\"kiwi\"]\n",
    "longest=\"\"\n",
    "for i in range(0,len(words)):\n",
    "    for j in range(i+1,len(words)):\n",
    "        if len(words[i])<len(words[j]):\n",
    "            longest=words[j]\n",
    "        \n",
    "\n",
    "print(longest)"
   ]
  },
  {
   "cell_type": "code",
   "execution_count": 20,
   "id": "63d283c8-14d4-4cd0-84d0-dcd599f4df1d",
   "metadata": {},
   "outputs": [
    {
     "name": "stdout",
     "output_type": "stream",
     "text": [
      "3 "
     ]
    }
   ],
   "source": [
    "numbers=[1,2,4,5,6]\n",
    "start=numbers[0]\n",
    "end=numbers[len(numbers)-1]\n",
    "for i in range(start,end+1):\n",
    "    if i not in numbers:\n",
    "        print(i,end=\" \")"
   ]
  },
  {
   "cell_type": "code",
   "execution_count": 42,
   "id": "3711aefa-e57f-44e2-8450-71af28515814",
   "metadata": {},
   "outputs": [
    {
     "name": "stdout",
     "output_type": "stream",
     "text": [
      "1\n"
     ]
    }
   ],
   "source": [
    "numbers=[4,5,1,2,0,4,5,2]\n",
    "newList=[]\n",
    "for i in range(0,len(numbers)):\n",
    "    for j in range(i+1,len(numbers)):\n",
    "        if (numbers[i]==numbers[j]):\n",
    "            newList.append(numbers[i])\n",
    "    if(numbers[i] not in newList):\n",
    "        print(numbers[i])\n",
    "        break\n",
    "\n",
    "            "
   ]
  },
  {
   "cell_type": "code",
   "execution_count": 5,
   "id": "c4ab28cd-5372-4d6a-8bc2-998166ba4997",
   "metadata": {},
   "outputs": [
    {
     "name": "stdout",
     "output_type": "stream",
     "text": [
      "[1, 3, 12, 0, 0]\n"
     ]
    }
   ],
   "source": [
    "numbers=[0,1,0,3,12]\n",
    "for i in range(0,len(numbers)):\n",
    "    if (numbers[i]==0):\n",
    "        x=numbers.pop(i)\n",
    "        numbers.append(x)\n",
    "\n",
    "print(numbers)"
   ]
  },
  {
   "cell_type": "code",
   "execution_count": 29,
   "id": "fcda4ce0-49c1-4b8a-83c5-8a9be11f1f78",
   "metadata": {},
   "outputs": [
    {
     "name": "stdout",
     "output_type": "stream",
     "text": [
      "[3, 6, 8]\n"
     ]
    }
   ],
   "source": [
    "numbers=[1,3,2,6,5,8,7]\n",
    "newList=[]\n",
    "left=0\n",
    "right=1\n",
    "while(right<len(numbers)):\n",
    "    if(numbers[left]<numbers[right]):\n",
    "        newList.append(numbers[right])  \n",
    "        left+=2\n",
    "        right+=2\n",
    "print(newList)       "
   ]
  },
  {
   "cell_type": "code",
   "execution_count": 6,
   "id": "8a59e864-3073-4aed-acf0-32ef31fa3a82",
   "metadata": {},
   "outputs": [
    {
     "name": "stdout",
     "output_type": "stream",
     "text": [
      "[(-1, -1, 2), (-1, 0, 1)]\n"
     ]
    }
   ],
   "source": [
    "numbers=[-1,0,1,2,-1,-4]\n",
    "numbers.sort()\n",
    "#print(numbers)\n",
    "newList=[]\n",
    "for i in range(len(numbers)-2):\n",
    "    left,right=i+1,len(numbers)-1\n",
    "    if i>0 and numbers[i]==numbers[i-1]:\n",
    "        continue\n",
    "\n",
    "    while(left<right):\n",
    "        total=numbers[i]+numbers[left]+numbers[right]\n",
    "        if(total==0):\n",
    "            newList.append((numbers[i],numbers[left],numbers[right]))\n",
    "            left+=1\n",
    "            right-=1\n",
    "            while(left<right and numbers[left]==numbers[left-1]):\n",
    "                left+=1\n",
    "            while(left<right and numbers[right]==numbers[right+1]):\n",
    "                right-=1\n",
    "        elif(total<0):\n",
    "            left+=1\n",
    "        else:\n",
    "            right-=1\n",
    "\n",
    "print(newList)"
   ]
  },
  {
   "cell_type": "code",
   "execution_count": null,
   "id": "c1170e63-9647-430b-8872-749debe1144c",
   "metadata": {},
   "outputs": [],
   "source": []
  },
  {
   "cell_type": "code",
   "execution_count": null,
   "id": "075779fd-3f8f-4204-861f-f1d70355e322",
   "metadata": {},
   "outputs": [],
   "source": []
  }
 ],
 "metadata": {
  "kernelspec": {
   "display_name": "Python 3 (ipykernel)",
   "language": "python",
   "name": "python3"
  },
  "language_info": {
   "codemirror_mode": {
    "name": "ipython",
    "version": 3
   },
   "file_extension": ".py",
   "mimetype": "text/x-python",
   "name": "python",
   "nbconvert_exporter": "python",
   "pygments_lexer": "ipython3",
   "version": "3.11.8"
  }
 },
 "nbformat": 4,
 "nbformat_minor": 5
}
