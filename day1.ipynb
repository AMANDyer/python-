{
 "cells": [
  {
   "cell_type": "code",
   "execution_count": 2,
   "id": "b3c06771-1265-482c-b7aa-762762e5d9cc",
   "metadata": {},
   "outputs": [
    {
     "name": "stdin",
     "output_type": "stream",
     "text": [
      "Enter your number 7\n"
     ]
    },
    {
     "name": "stdout",
     "output_type": "stream",
     "text": [
      "odd\n"
     ]
    }
   ],
   "source": [
    "num=int(input(\"Enter your number\"))\n",
    "if(num%2==0):\n",
    "    print(\"Even\")\n",
    "else:\n",
    "    print(\"odd\")"
   ]
  },
  {
   "cell_type": "code",
   "execution_count": 4,
   "id": "02eb069c-7bbe-4ab7-8c34-03c435204990",
   "metadata": {},
   "outputs": [
    {
     "name": "stdin",
     "output_type": "stream",
     "text": [
      "Enter your number 30\n",
      "Enter your number 10\n",
      "Enter your number 50\n"
     ]
    },
    {
     "name": "stdout",
     "output_type": "stream",
     "text": [
      "c is greater\n"
     ]
    }
   ],
   "source": [
    "a=int(input(\"Enter your number\"))\n",
    "b=int(input(\"Enter your number\"))\n",
    "c=int(input(\"Enter your number\"))\n",
    "\n",
    "if(a>b and a>c):\n",
    "    print(\"a is greater\")\n",
    "elif(b>a and b>c):\n",
    "    print(\"b is greater\")\n",
    "else:\n",
    "    print(\"c is greater\")"
   ]
  },
  {
   "cell_type": "code",
   "execution_count": 6,
   "id": "6c6b81bb-ee87-44ab-bccd-48edc2fc602c",
   "metadata": {},
   "outputs": [
    {
     "name": "stdin",
     "output_type": "stream",
     "text": [
      "Enter your year 2023\n"
     ]
    },
    {
     "name": "stdout",
     "output_type": "stream",
     "text": [
      "2023 is not a leap year\n"
     ]
    }
   ],
   "source": [
    "year=int(input(\"Enter your year\"))\n",
    "\n",
    "if(year%4==0 and year%100!=0):\n",
    "    print(f\"{year} is a leap year\")\n",
    "elif(year%400==0):\n",
    "    print(f\"{year} is a leap year\")\n",
    "else:\n",
    "    print(f\"{year} is not a leap year\")"
   ]
  },
  {
   "cell_type": "code",
   "execution_count": 7,
   "id": "24a492aa-e3ab-484e-aaee-ec14a63a1dd2",
   "metadata": {},
   "outputs": [
    {
     "name": "stdin",
     "output_type": "stream",
     "text": [
      "Enter your number 65\n"
     ]
    },
    {
     "name": "stdout",
     "output_type": "stream",
     "text": [
      "Grade D\n"
     ]
    }
   ],
   "source": [
    "per=int(input(\"Enter your number\"))\n",
    "\n",
    "if(per>=90):\n",
    "    print(\"Grade A\")\n",
    "elif(per>=80):\n",
    "    print(\"Grade B\")\n",
    "elif(per>=70):\n",
    "    print(\"Grade C\")\n",
    "elif(per>=60):\n",
    "    print(\"Grade D\")\n",
    "else:\n",
    "    print(\"Grade F\")"
   ]
  },
  {
   "cell_type": "code",
   "execution_count": 10,
   "id": "23a737cd-5ad8-4044-9c19-0b5850fa5618",
   "metadata": {},
   "outputs": [
    {
     "name": "stdin",
     "output_type": "stream",
     "text": [
      "Enter your character b\n"
     ]
    },
    {
     "name": "stdout",
     "output_type": "stream",
     "text": [
      "consonent\n"
     ]
    }
   ],
   "source": [
    "char=input(\"Enter your character\")\n",
    "if(char=='a' or char=='e' or char=='i' or char=='o' or char=='u'):\n",
    "    print(\"vowel\")\n",
    "else:\n",
    "    print(\"consonent\")"
   ]
  },
  {
   "cell_type": "code",
   "execution_count": 13,
   "id": "4d4eba2f-6f22-48b6-9c91-b0a0c291b45d",
   "metadata": {},
   "outputs": [
    {
     "name": "stdin",
     "output_type": "stream",
     "text": [
      "Enter your number 2\n",
      "Enter your number 5\n",
      "Enter a symbol /\n"
     ]
    },
    {
     "name": "stdout",
     "output_type": "stream",
     "text": [
      "div 0.4\n"
     ]
    }
   ],
   "source": [
    "num1=int(input(\"Enter your number\"))\n",
    "num2=int(input(\"Enter your number\"))\n",
    "char=input(\"Enter a symbol\")\n",
    "if(char=='+'):\n",
    "    print(\"sum \",num1+num2)\n",
    "elif(char=='-'):\n",
    "    print(\"sub \",num1-num2)\n",
    "elif(char=='*'):\n",
    "    print(\"div\",num1*num2)\n",
    "elif(char=='/'):\n",
    "    print(\"div\",num1/num2)\n",
    "elif(char=='%'):\n",
    "    print(\"MOD\",num1%num2)\n",
    "else:\n",
    "    print(\"symbol ddoesnt match\")"
   ]
  },
  {
   "cell_type": "code",
   "execution_count": 16,
   "id": "bcab17a3-e1b7-4cc9-9ba5-b0dbae559501",
   "metadata": {},
   "outputs": [
    {
     "name": "stdin",
     "output_type": "stream",
     "text": [
      "Enter a number -1\n"
     ]
    },
    {
     "name": "stdout",
     "output_type": "stream",
     "text": [
      "Negative\n"
     ]
    }
   ],
   "source": [
    "num=int(input(\"Enter a number\"))\n",
    "if(num>0):\n",
    "    print(\"Positive\")\n",
    "elif(num<0):\n",
    "    print(\"Negative\")\n",
    "else:\n",
    "    print(\"Zero\")"
   ]
  },
  {
   "cell_type": "code",
   "execution_count": 18,
   "id": "13e13a8c-524d-4572-9fd8-1b7daa31c610",
   "metadata": {},
   "outputs": [
    {
     "name": "stdin",
     "output_type": "stream",
     "text": [
      "Enter your username aman\n",
      "Enter your password 1234\n"
     ]
    },
    {
     "name": "stdout",
     "output_type": "stream",
     "text": [
      "Login Failed\n"
     ]
    }
   ],
   "source": [
    "userName=input(\"Enter your username\")\n",
    "passWord=input(\"Enter your password\")\n",
    "if(userName==\"admin\" and passWord==\"1234\"):\n",
    "    print(\"Login Successful\")\n",
    "else:\n",
    "    print(\"Login Failed\")"
   ]
  },
  {
   "cell_type": "code",
   "execution_count": 20,
   "id": "2583db2f-0a3c-402c-9f7f-118c29223c8b",
   "metadata": {},
   "outputs": [
    {
     "name": "stdin",
     "output_type": "stream",
     "text": [
      "Enter your number 0\n",
      "Enter your number 0\n",
      "Enter your number 0\n"
     ]
    },
    {
     "name": "stdout",
     "output_type": "stream",
     "text": [
      "Not valid\n"
     ]
    }
   ],
   "source": [
    "a=int(input(\"Enter your number\"))\n",
    "b=int(input(\"Enter your number\"))\n",
    "c=int(input(\"Enter your number\"))\n",
    "\n",
    "if((a+b>c)or(b+c>a)or(a+c>b)):\n",
    "    print(\"valid Triangle\")\n",
    "else:\n",
    "    print(\"Not valid\")"
   ]
  },
  {
   "cell_type": "code",
   "execution_count": 23,
   "id": "0019a28a-23c5-400f-9128-c3751df4b869",
   "metadata": {},
   "outputs": [
    {
     "name": "stdin",
     "output_type": "stream",
     "text": [
      "Enter your weight in kg 58\n",
      "Enter your height 5.6\n"
     ]
    },
    {
     "name": "stdout",
     "output_type": "stream",
     "text": [
      "1.8494897959183676\n",
      "Underweight\n"
     ]
    }
   ],
   "source": [
    "weight=int(input(\"Enter your weight in kg\"))\n",
    "height=float(input(\"Enter your height\"))\n",
    "bmi=weight/(height**2)\n",
    "print(bmi)\n",
    "if(bmi<18.5):\n",
    "    print(\"Underweight\")\n",
    "elif(bmi>=18.5 and bmi<24.9):\n",
    "    print(\"Normal weight\")\n",
    "elif(bmi>=25 and bmi<29.9):\n",
    "    print(\"Overweight\")\n",
    "else:\n",
    "    print(\"obesity\")"
   ]
  },
  {
   "cell_type": "code",
   "execution_count": 3,
   "id": "e5b274a5-fd99-4cd6-a220-91a98ab2a838",
   "metadata": {},
   "outputs": [
    {
     "name": "stdin",
     "output_type": "stream",
     "text": [
      "Enter your price 700\n"
     ]
    },
    {
     "name": "stdout",
     "output_type": "stream",
     "text": [
      "Discount = 35.0\n",
      "665.0\n"
     ]
    }
   ],
   "source": [
    "price=int(input(\"Enter your price\"))\n",
    "discount=0\n",
    "if(price>1000):\n",
    "    discount=price*10/100\n",
    "    print(\"Discount =\",discount)\n",
    "elif(price>=500 and price<=1000):\n",
    "    discount=price*5/100\n",
    "    print(\"Discount =\",discount)\n",
    "else:\n",
    "    print(\"No discount sorry\")\n",
    "\n",
    "finalAmount=price-discount\n",
    "print(finalAmount)\n",
    "    "
   ]
  },
  {
   "cell_type": "code",
   "execution_count": 8,
   "id": "629b2ae7-5e12-4f86-b733-46d679aed05f",
   "metadata": {},
   "outputs": [
    {
     "name": "stdin",
     "output_type": "stream",
     "text": [
      "Enter a month february\n",
      "Enter the year also to get the exact days 2025\n"
     ]
    },
    {
     "name": "stdout",
     "output_type": "stream",
     "text": [
      "2025 is not a leap year days are 28\n"
     ]
    }
   ],
   "source": [
    "month=input(\"Enter a month\")\n",
    "if(month==\"january\" or month==\"march\" or month==\"may\" or month==\"july\" or month==\"august\" or month==\"october\" or month==\"december\"):\n",
    "    print(f\"{month} has 31 days in it\")\n",
    "elif(month==\"february\"):\n",
    "    year=int(input(\"Enter the year also to get the exact days\"))\n",
    "    if(year%4==0 and year%100!=0):\n",
    "        print(f\"{year} is a leap year days are 29\")\n",
    "    elif(year%400==0):\n",
    "        print(f\"{year} is a leap year days are 29\")\n",
    "    else:\n",
    "        print(f\"{year} is not a leap year days are 28\")\n",
    "else:\n",
    "    print(f\"{month} has 30 days in it\")"
   ]
  },
  {
   "cell_type": "code",
   "execution_count": 11,
   "id": "768a9d20-7e39-416d-94c2-81a164a1fd08",
   "metadata": {},
   "outputs": [
    {
     "name": "stdin",
     "output_type": "stream",
     "text": [
      "Enter an action uh want to perform from an ATM withdraw money\n",
      "enter your amount to withdraw 0\n"
     ]
    }
   ],
   "source": [
    "choice=input(\"Enter an action uh want to perform from an ATM\")\n",
    "if(choice==\"check balance\"):\n",
    "    print(\"Amount:10000\")\n",
    "elif(choice==\"deposit money\"):\n",
    "    amount=int(input(\"enter your amount to deposit\"))\n",
    "    print(f\"Amount {amount} deposited\")\n",
    "elif(choice==\"withdraw money\"):\n",
    "    amount=int(input(\"enter your amount to withdraw\"))\n",
    "    if(amount>0):\n",
    "        print(f\"Amount {amount} withdrawed\")\n",
    "else:\n",
    "    print(\"Sorry out of service!\")"
   ]
  },
  {
   "cell_type": "code",
   "execution_count": 12,
   "id": "12435707-6e59-4ecb-b219-0a5507a00346",
   "metadata": {},
   "outputs": [
    {
     "name": "stdin",
     "output_type": "stream",
     "text": [
      "Enter your age 55\n"
     ]
    },
    {
     "name": "stdout",
     "output_type": "stream",
     "text": [
      "Adult\n"
     ]
    }
   ],
   "source": [
    "age=int(input(\"Enter your age\"))\n",
    "if(age>0 and age==1):\n",
    "    print(\"Infant\")\n",
    "elif(age>1 and age<=4):\n",
    "    print(\"Toddler\")\n",
    "elif(age>=5 and age<=12):\n",
    "    print(\"Child\")\n",
    "elif(age>=13 and age<=19):\n",
    "    print(\"Teenager\")\n",
    "elif(age>=20 and age<=59):\n",
    "    print(\"Adult\")\n",
    "elif(age>=60):\n",
    "    print(\"Senior\")\n",
    "else:\n",
    "    print(\"Invalid age\")"
   ]
  },
  {
   "cell_type": "code",
   "execution_count": 13,
   "id": "e2b726c7-95ad-4d4c-91ce-d9a00852f353",
   "metadata": {},
   "outputs": [
    {
     "name": "stdin",
     "output_type": "stream",
     "text": [
      "Enter days between 1 to 7 7\n"
     ]
    },
    {
     "name": "stdout",
     "output_type": "stream",
     "text": [
      "Sunday\n"
     ]
    }
   ],
   "source": [
    "day=int(input(\"Enter days between 1 to 7\"))\n",
    "if(day==1):\n",
    "    print(\"Monday\")\n",
    "elif(day==2):\n",
    "    print(\"Tuesday\")\n",
    "elif(day==3):\n",
    "    print(\"wednesday\")\n",
    "elif(day==4):\n",
    "    print(\"Thursday\")\n",
    "elif(day==5):\n",
    "    print(\"Friday\")\n",
    "elif(day==6):\n",
    "    print(\"Saturday\")\n",
    "elif(day==7):\n",
    "    print(\"Sunday\")\n",
    "else:\n",
    "    print(\"Invalid \")"
   ]
  },
  {
   "cell_type": "code",
   "execution_count": null,
   "id": "bf2588cf-d430-435b-aacb-63e51e6969c9",
   "metadata": {},
   "outputs": [],
   "source": []
  }
 ],
 "metadata": {
  "kernelspec": {
   "display_name": "Python 3 (ipykernel)",
   "language": "python",
   "name": "python3"
  },
  "language_info": {
   "codemirror_mode": {
    "name": "ipython",
    "version": 3
   },
   "file_extension": ".py",
   "mimetype": "text/x-python",
   "name": "python",
   "nbconvert_exporter": "python",
   "pygments_lexer": "ipython3",
   "version": "3.11.8"
  }
 },
 "nbformat": 4,
 "nbformat_minor": 5
}
