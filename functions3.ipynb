{
 "cells": [
  {
   "cell_type": "code",
   "execution_count": 7,
   "id": "c04c6c96-c411-49f4-85c8-6a7b0fb9fa43",
   "metadata": {},
   "outputs": [
    {
     "name": "stdout",
     "output_type": "stream",
     "text": [
      "hey\n"
     ]
    }
   ],
   "source": [
    "#lambda functions\n",
    "out=lambda x:\"hey\"\n",
    "print(out(1))\n"
   ]
  },
  {
   "cell_type": "code",
   "execution_count": 8,
   "id": "f85f1a2e-6b1a-481b-9c28-48859aa4023d",
   "metadata": {},
   "outputs": [
    {
     "name": "stdout",
     "output_type": "stream",
     "text": [
      "144\n"
     ]
    }
   ],
   "source": [
    "def square_func(x):\n",
    "    return x**2\n",
    "\n",
    "\n",
    "print(square_func(12))"
   ]
  },
  {
   "cell_type": "code",
   "execution_count": 9,
   "id": "ea21888a-2d90-4525-9f1a-380a300ed4cd",
   "metadata": {},
   "outputs": [
    {
     "data": {
      "text/plain": [
       "25"
      ]
     },
     "execution_count": 9,
     "metadata": {},
     "output_type": "execute_result"
    }
   ],
   "source": [
    "out=map(square_func,[5,7,8])\n",
    "next(out)#iterates to the next and to get the value next() is must"
   ]
  },
  {
   "cell_type": "code",
   "execution_count": 10,
   "id": "7849ec67-c5d6-42c7-be3e-d2ec6ea52bdd",
   "metadata": {},
   "outputs": [
    {
     "data": {
      "text/plain": [
       "49"
      ]
     },
     "execution_count": 10,
     "metadata": {},
     "output_type": "execute_result"
    }
   ],
   "source": [
    "next(out)"
   ]
  },
  {
   "cell_type": "code",
   "execution_count": 11,
   "id": "76df39b6-0364-4808-a902-77a498e333c5",
   "metadata": {},
   "outputs": [
    {
     "data": {
      "text/plain": [
       "64"
      ]
     },
     "execution_count": 11,
     "metadata": {},
     "output_type": "execute_result"
    }
   ],
   "source": [
    "next(out)"
   ]
  },
  {
   "cell_type": "code",
   "execution_count": 13,
   "id": "3a116691-9ac7-4948-a07c-c7bee36ac482",
   "metadata": {},
   "outputs": [
    {
     "data": {
      "text/plain": [
       "100"
      ]
     },
     "execution_count": 13,
     "metadata": {},
     "output_type": "execute_result"
    }
   ],
   "source": [
    "#using lambda\n",
    "out=map(lambda x:x**2,[10,20,30])\n",
    "next(out)"
   ]
  },
  {
   "cell_type": "code",
   "execution_count": 26,
   "id": "beb105f8-2a55-49af-90f9-cbac3a6300b6",
   "metadata": {},
   "outputs": [
    {
     "ename": "TypeError",
     "evalue": "'map' object is not callable",
     "output_type": "error",
     "traceback": [
      "\u001b[31m---------------------------------------------------------------------------\u001b[39m",
      "\u001b[31mTypeError\u001b[39m                                 Traceback (most recent call last)",
      "\u001b[36mCell\u001b[39m\u001b[36m \u001b[39m\u001b[32mIn[26]\u001b[39m\u001b[32m, line 1\u001b[39m\n\u001b[32m----> \u001b[39m\u001b[32m1\u001b[39m \u001b[38;5;28;43mlist\u001b[39;49m\u001b[43m(\u001b[49m\u001b[38;5;28;43mmap\u001b[39;49m\u001b[43m(\u001b[49m\u001b[38;5;28;43;01mlambda\u001b[39;49;00m\u001b[43m \u001b[49m\u001b[43mx\u001b[49m\u001b[43m:\u001b[49m\u001b[43mx\u001b[49m\u001b[43m*\u001b[49m\u001b[43m*\u001b[49m\u001b[32;43m2\u001b[39;49m\u001b[43m,\u001b[49m\u001b[43m[\u001b[49m\u001b[32;43m10\u001b[39;49m\u001b[43m,\u001b[49m\u001b[32;43m20\u001b[39;49m\u001b[43m,\u001b[49m\u001b[32;43m30\u001b[39;49m\u001b[43m]\u001b[49m\u001b[43m)\u001b[49m\u001b[43m)\u001b[49m\n",
      "\u001b[31mTypeError\u001b[39m: 'map' object is not callable"
     ]
    }
   ],
   "source": [
    "list(map(lambda x:x**2,[10,20,30]))"
   ]
  },
  {
   "cell_type": "code",
   "execution_count": 27,
   "id": "7510230b-f210-4225-b455-032f203a7909",
   "metadata": {},
   "outputs": [
    {
     "data": {
      "text/plain": [
       "(100, 400, 900)"
      ]
     },
     "execution_count": 27,
     "metadata": {},
     "output_type": "execute_result"
    }
   ],
   "source": [
    "tuple(map(lambda x:x**2,[10,20,30]))"
   ]
  },
  {
   "cell_type": "code",
   "execution_count": 1,
   "id": "38070cbf-4523-47ac-a9c9-a1cf2e49e095",
   "metadata": {},
   "outputs": [
    {
     "data": {
      "text/plain": [
       "[1, 4, 9]"
      ]
     },
     "execution_count": 1,
     "metadata": {},
     "output_type": "execute_result"
    }
   ],
   "source": [
    "list(map(lambda x:x**2,[1,2,3]))"
   ]
  },
  {
   "cell_type": "code",
   "execution_count": 32,
   "id": "09c06bdc-8edb-487d-beeb-f7086f4b1865",
   "metadata": {},
   "outputs": [
    {
     "data": {
      "text/plain": [
       "(8,)"
      ]
     },
     "execution_count": 32,
     "metadata": {},
     "output_type": "execute_result"
    }
   ],
   "source": [
    "tuple(filter(lambda x:x%2==0,[5,7,8]))"
   ]
  },
  {
   "cell_type": "code",
   "execution_count": 35,
   "id": "a6435137-44e5-4505-b366-e1c5ed5ab3f5",
   "metadata": {},
   "outputs": [
    {
     "data": {
      "text/plain": [
       "((10, 1), (20, 1), (30, 1))"
      ]
     },
     "execution_count": 35,
     "metadata": {},
     "output_type": "execute_result"
    }
   ],
   "source": [
    "tuple(map(lambda x:(x,1),[10,20,30]))"
   ]
  },
  {
   "cell_type": "code",
   "execution_count": 37,
   "id": "7d90b69f-4cf1-4201-8870-7b361060c450",
   "metadata": {},
   "outputs": [
    {
     "ename": "NameError",
     "evalue": "name 'map' is not defined",
     "output_type": "error",
     "traceback": [
      "\u001b[31m---------------------------------------------------------------------------\u001b[39m",
      "\u001b[31mNameError\u001b[39m                                 Traceback (most recent call last)",
      "\u001b[36mCell\u001b[39m\u001b[36m \u001b[39m\u001b[32mIn[37]\u001b[39m\u001b[32m, line 1\u001b[39m\n\u001b[32m----> \u001b[39m\u001b[32m1\u001b[39m \u001b[38;5;28;01mdel\u001b[39;00m \u001b[38;5;28;43mmap\u001b[39;49m\n",
      "\u001b[31mNameError\u001b[39m: name 'map' is not defined"
     ]
    }
   ],
   "source": [
    "del map"
   ]
  },
  {
   "cell_type": "code",
   "execution_count": 3,
   "id": "6bc56ab4-0235-436f-86ee-c858046945ef",
   "metadata": {},
   "outputs": [
    {
     "data": {
      "text/plain": [
       "{1: 1, 2: 1, 3: 1}"
      ]
     },
     "execution_count": 3,
     "metadata": {},
     "output_type": "execute_result"
    }
   ],
   "source": [
    "out=list(map(lambda x:(x,1),[1,2,3]))\n",
    "dict(out)"
   ]
  },
  {
   "cell_type": "code",
   "execution_count": null,
   "id": "dc2bf28a-8020-47e7-a197-b7693a1d8a1f",
   "metadata": {},
   "outputs": [],
   "source": []
  }
 ],
 "metadata": {
  "kernelspec": {
   "display_name": "Python 3 (ipykernel)",
   "language": "python",
   "name": "python3"
  },
  "language_info": {
   "codemirror_mode": {
    "name": "ipython",
    "version": 3
   },
   "file_extension": ".py",
   "mimetype": "text/x-python",
   "name": "python",
   "nbconvert_exporter": "python",
   "pygments_lexer": "ipython3",
   "version": "3.11.8"
  }
 },
 "nbformat": 4,
 "nbformat_minor": 5
}
