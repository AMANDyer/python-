{
 "cells": [
  {
   "cell_type": "code",
   "execution_count": 1,
   "id": "7cf6457f-a1e3-4f92-9ee1-3bbc8eb0a4fd",
   "metadata": {},
   "outputs": [
    {
     "ename": "NameError",
     "evalue": "name 'Shape' is not defined",
     "output_type": "error",
     "traceback": [
      "\u001b[31m---------------------------------------------------------------------------\u001b[39m",
      "\u001b[31mNameError\u001b[39m                                 Traceback (most recent call last)",
      "\u001b[36mCell\u001b[39m\u001b[36m \u001b[39m\u001b[32mIn[1]\u001b[39m\u001b[32m, line 7\u001b[39m\n\u001b[32m      1\u001b[39m \u001b[38;5;28;01mfrom\u001b[39;00m\u001b[38;5;250m \u001b[39m\u001b[34;01mabc\u001b[39;00m\u001b[38;5;250m \u001b[39m\u001b[38;5;28;01mimport\u001b[39;00m ABC\n\u001b[32m----> \u001b[39m\u001b[32m7\u001b[39m \u001b[38;5;28;01mclass\u001b[39;00m\u001b[38;5;250m \u001b[39m\u001b[34;01mCircle\u001b[39;00m(\u001b[43mShape\u001b[49m):\n\u001b[32m      8\u001b[39m     \u001b[38;5;28;01mdef\u001b[39;00m\u001b[38;5;250m \u001b[39m\u001b[34m__init__\u001b[39m(\u001b[38;5;28mself\u001b[39m,radius):\n\u001b[32m      9\u001b[39m         \u001b[38;5;28mself\u001b[39m.radius=radius\n",
      "\u001b[31mNameError\u001b[39m: name 'Shape' is not defined"
     ]
    }
   ],
   "source": [
    "from abc import ABC\n",
    "\n",
    "\n",
    "\n",
    "\n",
    "\n",
    "class Circle(Shape):\n",
    "    def __init__(self,radius):\n",
    "        self.radius=radius\n",
    "\n",
    "    def area(self):\n",
    "        return 3.14*self.radius*self.radius\n",
    "\n",
    "    def perimeter(self):\n",
    "        return 2*3.14*self.radius\n",
    "\n",
    "circle=Circle\n",
    "circle=Circle\n"
   ]
  },
  {
   "cell_type": "code",
   "execution_count": 9,
   "id": "1e225b88-f097-4d65-8e03-0b19860522f7",
   "metadata": {},
   "outputs": [
    {
     "name": "stdout",
     "output_type": "stream",
     "text": [
      "The factorial of 5 is 120\n"
     ]
    }
   ],
   "source": [
    "class FactorialCalculator:\n",
    "    def calculator_factorial(self,n):\n",
    "        #base case:factorial of 0 or 1 is 1\n",
    "        if n==0 or n==1:\n",
    "            return 1\n",
    "        else:\n",
    "            #recursive case:n*factorial of (n-1)\n",
    "            return n*self.calculator_factorial(n-1)\n",
    "\n",
    "calculator=FactorialCalculator()\n",
    "number=5\n",
    "result=calculator.calculator_factorial(number)\n",
    "print(f\"The factorial of {number} is {result}\")"
   ]
  },
  {
   "cell_type": "code",
   "execution_count": 10,
   "id": "ee95ae1f-5955-428f-bc0c-05df7c41bda8",
   "metadata": {},
   "outputs": [
    {
     "name": "stdout",
     "output_type": "stream",
     "text": [
      "Function 'greet' is called\n",
      "Hello,Aman!\n",
      "Function 'greet' finished execution\n"
     ]
    }
   ],
   "source": [
    "#decorator function\n",
    "def log_decorator(func):\n",
    "    def wrapper(*args,**kwargs):\n",
    "        print(f\"Function '{func.__name__}' is called\")\n",
    "        result=func(*args,**kwargs)\n",
    "        print(f\"Function '{func.__name__}' finished execution\")\n",
    "        return result\n",
    "    return wrapper\n",
    "\n",
    "@log_decorator\n",
    "def greet(name):\n",
    "    print(f\"Hello,{name}!\")\n",
    "\n",
    "greet(\"Aman\")\n"
   ]
  },
  {
   "cell_type": "code",
   "execution_count": null,
   "id": "7d572f12-4d7e-4cf6-87d4-40aae79e60ef",
   "metadata": {},
   "outputs": [],
   "source": []
  }
 ],
 "metadata": {
  "kernelspec": {
   "display_name": "Python 3 (ipykernel)",
   "language": "python",
   "name": "python3"
  },
  "language_info": {
   "codemirror_mode": {
    "name": "ipython",
    "version": 3
   },
   "file_extension": ".py",
   "mimetype": "text/x-python",
   "name": "python",
   "nbconvert_exporter": "python",
   "pygments_lexer": "ipython3",
   "version": "3.11.8"
  }
 },
 "nbformat": 4,
 "nbformat_minor": 5
}
