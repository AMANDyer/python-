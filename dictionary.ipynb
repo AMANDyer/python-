{
 "cells": [
  {
   "cell_type": "code",
   "execution_count": 1,
   "id": "67e385c4-27eb-4808-aaef-a7dd568aa8b3",
   "metadata": {},
   "outputs": [
    {
     "name": "stdout",
     "output_type": "stream",
     "text": [
      "<class 'tuple'>\n"
     ]
    }
   ],
   "source": [
    "x=10,20,30\n",
    "print(type(x))"
   ]
  },
  {
   "cell_type": "code",
   "execution_count": 2,
   "id": "86f24bb2-71d5-47b5-8be6-0773d7b1d910",
   "metadata": {},
   "outputs": [
    {
     "name": "stdout",
     "output_type": "stream",
     "text": [
      "(10, 20) <class 'tuple'>\n"
     ]
    }
   ],
   "source": [
    "x=10,20,30\n",
    "print(x[0:2],type(x))"
   ]
  },
  {
   "cell_type": "code",
   "execution_count": 4,
   "id": "37fa01ea-5186-4f56-bbac-c2b45f08ba9b",
   "metadata": {},
   "outputs": [
    {
     "name": "stdout",
     "output_type": "stream",
     "text": [
      "<class 'tuple'> 2\n"
     ]
    }
   ],
   "source": [
    "x=10,20,30,10,10\n",
    "x.count(10)\n",
    "\n",
    "print(type(x),x.index(30))"
   ]
  },
  {
   "cell_type": "code",
   "execution_count": 5,
   "id": "8ffa6ad9-b2d9-4a5f-ac51-18e474929e52",
   "metadata": {},
   "outputs": [
    {
     "name": "stdout",
     "output_type": "stream",
     "text": [
      "2622170293504\n",
      "2622170103488\n"
     ]
    }
   ],
   "source": [
    "x=10,20,30\n",
    "print(id(x))\n",
    "x=x+(40,50)\n",
    "print(id(x))\n",
    "# tuple immutable\n",
    "#differnt memory address"
   ]
  },
  {
   "cell_type": "code",
   "execution_count": 11,
   "id": "a71c3a70-6aa0-4794-8459-77e6f53dd2b9",
   "metadata": {},
   "outputs": [
    {
     "name": "stdout",
     "output_type": "stream",
     "text": [
      "2622176611456\n",
      "[10, 20, 30, 40, 50]\n",
      "2622176611456\n"
     ]
    }
   ],
   "source": [
    "x=[10,20,30]\n",
    "print(id(x))\n",
    "x.extend([40,50])\n",
    "print(x)\n",
    "print(id(x))\n",
    "#list,set are mutable\n",
    "#same memory address"
   ]
  },
  {
   "cell_type": "code",
   "execution_count": 17,
   "id": "5778e377-65c0-4e56-b184-dbfc2d2e4e4e",
   "metadata": {},
   "outputs": [
    {
     "name": "stdout",
     "output_type": "stream",
     "text": [
      "tushar\n",
      "<class 'dict'>\n",
      "{100: 'armaan', 101: 'Aman', 102: 'ujjawal'}\n",
      "2622176737648 2622176739056\n"
     ]
    }
   ],
   "source": [
    "userDetail={100:\"tushar\",101:\"Aman\"}\n",
    "print(userDetail[100])\n",
    "print(type(userDetail))\n",
    "#insert\n",
    "userDetail[102]=\"ujjawal\"\n",
    "#update\n",
    "userDetail[100]=\"armaan\"\n",
    "print(userDetail)\n",
    "print(id(userDetail[100]),id(userDetail[102]))#immutable\n"
   ]
  },
  {
   "cell_type": "code",
   "execution_count": 18,
   "id": "a87cabfe-540c-4554-a3b7-dbe19e031a92",
   "metadata": {},
   "outputs": [
    {
     "name": "stdout",
     "output_type": "stream",
     "text": [
      "{100: 'tushar'} Aman\n"
     ]
    }
   ],
   "source": [
    "userDetail={100:\"tushar\",101:\"Aman\"}\n",
    "out=userDetail.pop(101)\n",
    "print(userDetail,out)"
   ]
  },
  {
   "cell_type": "code",
   "execution_count": 21,
   "id": "cf3b1cb5-409e-44ff-bc1c-b688dae41fb6",
   "metadata": {},
   "outputs": [
    {
     "name": "stdout",
     "output_type": "stream",
     "text": [
      "{100: 'tushar'} (101, 'Aman')\n"
     ]
    }
   ],
   "source": [
    "userDetail={100:\"tushar\",101:\"Aman\"}\n",
    "out=userDetail.popitem()\n",
    "print(userDetail,out)"
   ]
  },
  {
   "cell_type": "code",
   "execution_count": 22,
   "id": "9ba8d939-10c0-401e-8a85-027b7c72f68c",
   "metadata": {},
   "outputs": [
    {
     "name": "stdout",
     "output_type": "stream",
     "text": [
      "dict_keys([100, 101])\n",
      "dict_values(['tushar', 'Aman'])\n",
      "dict_items([(100, 'tushar'), (101, 'Aman')])\n"
     ]
    }
   ],
   "source": [
    "userDetail={100:\"tushar\",101:\"Aman\"}\n",
    "print(userDetail.keys())\n",
    "print(userDetail.values())\n",
    "print(userDetail.items())"
   ]
  },
  {
   "cell_type": "code",
   "execution_count": 25,
   "id": "1bc8415f-a381-419a-b29b-8d7ec4db8f51",
   "metadata": {},
   "outputs": [
    {
     "name": "stdout",
     "output_type": "stream",
     "text": [
      "{100: 'tushar', 101: 'Aman', 107: 'yash'}\n"
     ]
    }
   ],
   "source": [
    "userDetail={100:\"tushar\",101:\"Aman\"}\n",
    "userDetail.update({100:\"tushar\",107:\"yash\"})#used to update multiple key values\n",
    "print(userDetail)"
   ]
  },
  {
   "cell_type": "code",
   "execution_count": 29,
   "id": "bab55570-53e8-422c-962f-46a7e07f3117",
   "metadata": {},
   "outputs": [
    {
     "name": "stdout",
     "output_type": "stream",
     "text": [
      "{'salary': 100}\n",
      "{'salary': 190}\n"
     ]
    }
   ],
   "source": [
    "mydictionary={\"salary\":100}\n",
    "print(mydictionary)\n",
    "#mydictionary[\"salary\"]+90#coz we doesnt assign it to my dictionary\n",
    "mydictionary[\"salary\"]=mydictionary[\"salary\"]+90\n",
    "print(mydictionary)\n"
   ]
  },
  {
   "cell_type": "code",
   "execution_count": 31,
   "id": "1e03ab63-fe75-4f5d-851e-287c48b4865e",
   "metadata": {},
   "outputs": [
    {
     "name": "stdout",
     "output_type": "stream",
     "text": [
      "{10: 1, 12: 1, 14: 1}\n"
     ]
    }
   ],
   "source": [
    "mydictionary={}\n",
    "for i in range(10,16):\n",
    "    if(i%2==0):\n",
    "        mydictionary[i]=1\n",
    "\n",
    "print(mydictionary)"
   ]
  },
  {
   "cell_type": "code",
   "execution_count": 35,
   "id": "c90e4449-1633-4040-9d90-5fc2ebc0bfdc",
   "metadata": {},
   "outputs": [
    {
     "name": "stdout",
     "output_type": "stream",
     "text": [
      "{'e': 1, 'u': 1, 'a': 1}\n"
     ]
    }
   ],
   "source": [
    "mydictionary={}a\n",
    "string=\"hey ura\"\n",
    "for i in range(0,len(str)):\n",
    "    if(string[i]=='a' or string[i]=='e' or string[i]=='i' or string[i]=='o' or string[i]=='u'):\n",
    "        mydictionary[string[i]]=1\n",
    "\n",
    "print(mydictionary)"
   ]
  },
  {
   "cell_type": "code",
   "execution_count": 38,
   "id": "b86ced75-a411-40b4-93e7-e00ca82c7266",
   "metadata": {},
   "outputs": [
    {
     "name": "stdout",
     "output_type": "stream",
     "text": [
      "{'e': 1, 'u': 1, 'a': 1}\n"
     ]
    }
   ],
   "source": [
    "mydictionary={}\n",
    "for i in \"hey ura\":\n",
    "    if i in \"aeiou\":\n",
    "        mydictionary[i]=1\n",
    "\n",
    "print(mydictionary)"
   ]
  },
  {
   "cell_type": "code",
   "execution_count": 39,
   "id": "ed22c56e-94f9-4869-aa99-f52b045750f1",
   "metadata": {},
   "outputs": [
    {
     "name": "stdout",
     "output_type": "stream",
     "text": [
      "{'e': 1, 'u': 1, 'a': 1}\n"
     ]
    }
   ],
   "source": [
    "x={'e': 1, 'u': 1, 'a': 1}\n",
    "x['e']=1\n",
    "print(x)"
   ]
  },
  {
   "cell_type": "code",
   "execution_count": 44,
   "id": "30da1a29-1782-43a2-8f78-0286bcac8a41",
   "metadata": {},
   "outputs": [
    {
     "name": "stdout",
     "output_type": "stream",
     "text": [
      "{'roll no': 100, 'salary': 10}\n"
     ]
    }
   ],
   "source": [
    "x={\"roll no\":100}\n",
    "if(\"salary\" in x):\n",
    "    #x[\"salary\"]=x[\"salary\"]+10#update\n",
    "    x[\"salary\"]+=10\n",
    "else:\n",
    "    x[\"salary\"]=10#insert\n",
    "print(x)"
   ]
  },
  {
   "cell_type": "code",
   "execution_count": 47,
   "id": "21081497-e623-4acc-bf2f-ab53d4eee5e4",
   "metadata": {},
   "outputs": [
    {
     "name": "stdout",
     "output_type": "stream",
     "text": [
      "{'h': 1, 'e': 3, 'y': 1, ' ': 1, 'u': 1, 'r': 1, 'a': 2}\n"
     ]
    }
   ],
   "source": [
    "mydictionary={}\n",
    "for i in \"heye ureaa\":\n",
    "    #if i in \"aeiou\":\n",
    "        if i in mydictionary:\n",
    "            mydictionary[i]+=1\n",
    "        else:\n",
    "            mydictionary[i]=1\n",
    "\n",
    "print(mydictionary)"
   ]
  },
  {
   "cell_type": "code",
   "execution_count": null,
   "id": "47da775a-b959-4353-b5f8-c8e9aaa9786f",
   "metadata": {},
   "outputs": [],
   "source": []
  }
 ],
 "metadata": {
  "kernelspec": {
   "display_name": "Python 3 (ipykernel)",
   "language": "python",
   "name": "python3"
  },
  "language_info": {
   "codemirror_mode": {
    "name": "ipython",
    "version": 3
   },
   "file_extension": ".py",
   "mimetype": "text/x-python",
   "name": "python",
   "nbconvert_exporter": "python",
   "pygments_lexer": "ipython3",
   "version": "3.11.8"
  }
 },
 "nbformat": 4,
 "nbformat_minor": 5
}
