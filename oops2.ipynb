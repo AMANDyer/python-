{
 "cells": [
  {
   "cell_type": "code",
   "execution_count": 4,
   "id": "9ec0d7fc-8e7c-40ae-9a05-8abf036c9bd2",
   "metadata": {},
   "outputs": [
    {
     "name": "stdout",
     "output_type": "stream",
     "text": [
      "Aman\n",
      "Name of employee is:Aman and salary is 20000\n"
     ]
    }
   ],
   "source": [
    "#public private attributes\n",
    "class Employee:\n",
    "    def __init__(self,name,salary):\n",
    "        self.name=name\n",
    "        self.__salary=salary\n",
    "\n",
    "    def getInfo(self):\n",
    "        print(f\"Name of employee is:{self.name} and salary is {self.__salary}\")\n",
    "\n",
    "a=Employee(\"Aman\",20000)\n",
    "print(a.name)#directlyget a public attribute\n",
    "#print(a.__salary) cant access a private account directly to do so we have to use it inside a get method\n",
    "a.getInfo()\n",
    "\n",
    "    "
   ]
  },
  {
   "cell_type": "code",
   "execution_count": 8,
   "id": "d0cd8adb-7884-492c-bb78-d750d2021cbc",
   "metadata": {},
   "outputs": [
    {
     "name": "stdout",
     "output_type": "stream",
     "text": [
      "Grade updated succesfully!!\n"
     ]
    },
    {
     "data": {
      "text/plain": [
       "20"
      ]
     },
     "execution_count": 8,
     "metadata": {},
     "output_type": "execute_result"
    }
   ],
   "source": [
    "class Student:\n",
    "    def __init__(self,name,grade):\n",
    "        self.name=name\n",
    "        self.__grade=grade\n",
    "\n",
    "    #getter method\n",
    "    def getGrade(self):\n",
    "        return self.__grade\n",
    "\n",
    "    #setter method\n",
    "    def setGrade(self,newgrade):\n",
    "        if newgrade>=0 and newgrade<=100:\n",
    "            self.__grade=newgrade\n",
    "            print(\"Grade updated succesfully!!\")\n",
    "        else:\n",
    "            print(\"Invalid!!\")\n",
    "\n",
    "a=Student(\"Aman\",90)\n",
    "a.getGrade()\n",
    "a.setGrade(20)\n",
    "a.getGrade()"
   ]
  },
  {
   "cell_type": "raw",
   "id": "7b58c414-d7af-4244-bd87-0fcadad5f6b0",
   "metadata": {},
   "source": []
  },
  {
   "cell_type": "code",
   "execution_count": null,
   "id": "6422ac36-3982-4761-abbd-e31d26e95bab",
   "metadata": {},
   "outputs": [],
   "source": []
  },
  {
   "cell_type": "code",
   "execution_count": 15,
   "id": "4b1005e0-91cd-4ac5-bc7d-3a92fbd10d71",
   "metadata": {},
   "outputs": [
    {
     "name": "stdout",
     "output_type": "stream",
     "text": [
      "Project scheduled\n",
      "Location is :Jaipur\n"
     ]
    }
   ],
   "source": [
    "#inheritance\n",
    "class Employee:\n",
    "    def __init__(self,location):\n",
    "        self.location=location\n",
    "\n",
    "    def getLocation(self):\n",
    "        print(f\"Location is :{self.location}\")\n",
    "\n",
    "class Manager(Employee):\n",
    "    def getInfo(self):\n",
    "        print(\"Project scheduled\")\n",
    "\n",
    "manager=Manager(\"Jaipur\")\n",
    "manager.getInfo()\n",
    "manager.getLocation()"
   ]
  },
  {
   "cell_type": "code",
   "execution_count": 18,
   "id": "a54625ca-2c0b-4e44-832f-e6dba8833d62",
   "metadata": {},
   "outputs": [
    {
     "name": "stdout",
     "output_type": "stream",
     "text": [
      "Driving a car!!\n",
      "Engine starts!!\n",
      "Wheels are rotating!!\n"
     ]
    }
   ],
   "source": [
    "#multiple inheritance\n",
    "class Engine:\n",
    "    def start_engine(self):\n",
    "        print(\"Engine starts!!\")\n",
    "\n",
    "class Wheels:\n",
    "    def rotate(self):\n",
    "        print(\"Wheels are rotating!!\")\n",
    "\n",
    "class Car(Engine,Wheels):\n",
    "    def drive(self):\n",
    "        print(\"Driving a car!!\")\n",
    "\n",
    "car=Car()\n",
    "car.drive()\n",
    "car.start_engine()\n",
    "car.rotate()"
   ]
  },
  {
   "cell_type": "code",
   "execution_count": 21,
   "id": "43624edc-6b0f-40b7-9919-2f008c48606e",
   "metadata": {},
   "outputs": [
    {
     "name": "stdout",
     "output_type": "stream",
     "text": [
      "Puppy is weeping!!\n",
      "Barking!!\n",
      "Animal is eating!!\n"
     ]
    }
   ],
   "source": [
    "#multilevel inheritance\n",
    "class Animal:\n",
    "    def eat(self):\n",
    "        print(\"Animal is eating!!\")\n",
    "\n",
    "class Dog(Animal):#inherits from Animal calss\n",
    "    def bark(self):\n",
    "        print(\"Barking!!\")\n",
    "\n",
    "class Puppy(Dog):#inherits from dog class\n",
    "    def weep(self):\n",
    "        print(\"Puppy is weeping!!\")\n",
    "\n",
    "puppy=Puppy()\n",
    "puppy.weep()\n",
    "puppy.bark()\n",
    "puppy.eat()\n",
    "        "
   ]
  },
  {
   "cell_type": "code",
   "execution_count": 26,
   "id": "1b007fd3-f494-4948-9058-fb5639cacb37",
   "metadata": {},
   "outputs": [
    {
     "name": "stdout",
     "output_type": "stream",
     "text": [
      "Order Summerized!!\n",
      "Customer name is :Aman and contact no is :8907654321\n",
      "Product name is :PS5 and price is :100000\n"
     ]
    }
   ],
   "source": [
    "#E commerce order management multiple inheritance\n",
    "class Customer:\n",
    "    def __init__(self,name,contact):\n",
    "        self.name=name\n",
    "        self.contact=contact\n",
    "\n",
    "    def getInfo(self):\n",
    "        print(f\"Customer name is :{self.name} and contact no is :{self.contact}\")\n",
    "\n",
    "class Product:\n",
    "    def __init__(self,p_name,p_price):\n",
    "        self.p_name=p_name\n",
    "        self.p_price=p_price\n",
    "\n",
    "    def getPdetails(self):\n",
    "        print(f\"Product name is :{self.p_name} and price is :{self.p_price}\")\n",
    "\n",
    "class Orders(Customer,Product):\n",
    "    def __init__(self,name,contact,p_name,p_price):\n",
    "        Customer.__init__(self,name,contact)#initialize parents\n",
    "        Product.__init__(self,p_name,p_price)\n",
    "    def summary(self):\n",
    "        print(\"Order Summerized!!\")\n",
    "        self.getInfo()\n",
    "        self.getPdetails()\n",
    "\n",
    "order=Orders(\"Aman\",8907654321,\"PS5\",100000)\n",
    "order.summary()\n",
    "    "
   ]
  },
  {
   "cell_type": "code",
   "execution_count": null,
   "id": "ad1fa6ba-ad7e-4ffe-a1f5-c6149bc40dfb",
   "metadata": {},
   "outputs": [],
   "source": []
  }
 ],
 "metadata": {
  "kernelspec": {
   "display_name": "Python 3 (ipykernel)",
   "language": "python",
   "name": "python3"
  },
  "language_info": {
   "codemirror_mode": {
    "name": "ipython",
    "version": 3
   },
   "file_extension": ".py",
   "mimetype": "text/x-python",
   "name": "python",
   "nbconvert_exporter": "python",
   "pygments_lexer": "ipython3",
   "version": "3.11.8"
  }
 },
 "nbformat": 4,
 "nbformat_minor": 5
}
